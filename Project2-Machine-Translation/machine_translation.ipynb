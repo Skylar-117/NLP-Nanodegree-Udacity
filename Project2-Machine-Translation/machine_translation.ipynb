{
 "cells": [
  {
   "cell_type": "markdown",
   "metadata": {
    "collapsed": true
   },
   "source": [
    "# Artificial Intelligence Nanodegree\n",
    "## Machine Translation Project\n",
    "In this notebook, sections that end with **'(IMPLEMENTATION)'** in the header indicate that the following blocks of code will require additional functionality which you must provide. Please be sure to read the instructions carefully!\n",
    "\n",
    "## Introduction\n",
    "In this notebook, you will build a deep neural network that functions as part of an end-to-end machine translation pipeline. Your completed pipeline will accept English text as input and return the French translation.\n",
    "\n",
    "- **Preprocess** - You'll convert text to sequence of integers.\n",
    "- **Models** Create models which <font color='red'>accepts a sequence of integers as input and returns a probability distribution over possible translations.</font> After learning about the basic types of neural networks that are often used for machine translation, you will engage in your own investigations, to design your own model!\n",
    "- **Prediction** Run the model on English text."
   ]
  },
  {
   "cell_type": "code",
   "execution_count": 1,
   "metadata": {},
   "outputs": [],
   "source": [
    "%load_ext autoreload\n",
    "%aimport helper, tests\n",
    "%autoreload 1"
   ]
  },
  {
   "cell_type": "code",
   "execution_count": 2,
   "metadata": {},
   "outputs": [
    {
     "name": "stderr",
     "output_type": "stream",
     "text": [
      "Using TensorFlow backend.\n"
     ]
    }
   ],
   "source": [
    "import collections\n",
    "\n",
    "import helper\n",
    "import numpy as np\n",
    "import project_tests as tests\n",
    "import matplotlib.pyplot as plt\n",
    "\n",
    "from keras.preprocessing.text import Tokenizer\n",
    "from keras.preprocessing.sequence import pad_sequences\n",
    "from keras.models import Model, Sequential\n",
    "from keras.layers import GRU, Input, Dense, TimeDistributed, Activation, RepeatVector, Bidirectional, Dropout\n",
    "from keras.layers.embeddings import Embedding\n",
    "from keras.optimizers import Adam\n",
    "from keras.losses import sparse_categorical_crossentropy"
   ]
  },
  {
   "cell_type": "markdown",
   "metadata": {},
   "source": [
    "### Verify access to the GPU\n",
    "The following test applies only if you expect to be using a GPU, e.g., while running in a Udacity Workspace or using an AWS instance with GPU support. Run the next cell, and verify that the device_type is \"GPU\".\n",
    "- If the device is not GPU & you are running from a Udacity Workspace, then save your workspace with the icon at the top, then click \"enable\" at the bottom of the workspace.\n",
    "- If the device is not GPU & you are running from an AWS instance, then refer to the cloud computing instructions in the classroom to verify your setup steps."
   ]
  },
  {
   "cell_type": "code",
   "execution_count": 3,
   "metadata": {
    "scrolled": true
   },
   "outputs": [
    {
     "name": "stdout",
     "output_type": "stream",
     "text": [
      "[name: \"/cpu:0\"\n",
      "device_type: \"CPU\"\n",
      "memory_limit: 268435456\n",
      "locality {\n",
      "}\n",
      "incarnation: 2915173236249942278\n",
      "]\n"
     ]
    }
   ],
   "source": [
    "from tensorflow.python.client import device_lib\n",
    "print(device_lib.list_local_devices())"
   ]
  },
  {
   "cell_type": "markdown",
   "metadata": {},
   "source": [
    "## Dataset\n",
    "We begin by investigating the dataset that will be used to train and evaluate your pipeline.  The most common datasets used for machine translation are from [WMT](http://www.statmt.org/).  However, that will take a long time to train a neural network on.  We'll be using a dataset we created for this project that contains a small vocabulary.  You'll be able to train your model in a reasonable time with this dataset.\n",
    "### Load Data\n",
    "The data is located in `data/small_vocab_en` and `data/small_vocab_fr`. The `small_vocab_en` file contains English sentences with their French translations in the `small_vocab_fr` file. Load the English and French data from these files from running the cell below."
   ]
  },
  {
   "cell_type": "code",
   "execution_count": 4,
   "metadata": {
    "scrolled": true
   },
   "outputs": [
    {
     "name": "stdout",
     "output_type": "stream",
     "text": [
      "Dataset Loaded\n"
     ]
    }
   ],
   "source": [
    "# Load English data\n",
    "english_sentences = helper.load_data('data/small_vocab_en')\n",
    "# Load French data\n",
    "french_sentences = helper.load_data('data/small_vocab_fr')\n",
    "\n",
    "print('Dataset Loaded')"
   ]
  },
  {
   "cell_type": "markdown",
   "metadata": {},
   "source": [
    "### Files\n",
    "Each line in `small_vocab_en` contains an English sentence with the respective translation in each line of `small_vocab_fr`.  View the first two lines from each file."
   ]
  },
  {
   "cell_type": "code",
   "execution_count": 5,
   "metadata": {},
   "outputs": [
    {
     "name": "stdout",
     "output_type": "stream",
     "text": [
      "small_vocab_en Line 1:  new jersey is sometimes quiet during autumn , and it is snowy in april .\n",
      "small_vocab_fr Line 1:  new jersey est parfois calme pendant l' automne , et il est neigeux en avril .\n",
      "small_vocab_en Line 2:  the united states is usually chilly during july , and it is usually freezing in november .\n",
      "small_vocab_fr Line 2:  les états-unis est généralement froid en juillet , et il gèle habituellement en novembre .\n"
     ]
    }
   ],
   "source": [
    "for sample_i in range(2):\n",
    "    print('small_vocab_en Line {}:  {}'.format(sample_i + 1, english_sentences[sample_i]))\n",
    "    print('small_vocab_fr Line {}:  {}'.format(sample_i + 1, french_sentences[sample_i]))"
   ]
  },
  {
   "cell_type": "markdown",
   "metadata": {},
   "source": [
    "From looking at the sentences, you can see they have been preprocessed already.  The puncuations have been delimited using spaces. All the text have been converted to lowercase.  This should save you some time, but the text requires more preprocessing.\n",
    "### Vocabulary\n",
    "The complexity of the problem is determined by the complexity of the vocabulary.  A more complex vocabulary is a more complex problem.  Let's look at the complexity of the dataset we'll be working with."
   ]
  },
  {
   "cell_type": "code",
   "execution_count": 6,
   "metadata": {},
   "outputs": [
    {
     "name": "stdout",
     "output_type": "stream",
     "text": [
      "1823250 English words.\n",
      "227 unique English words.\n",
      "10 Most common words in the English dataset:\n",
      "\"is\" \",\" \".\" \"in\" \"it\" \"during\" \"the\" \"but\" \"and\" \"sometimes\"\n",
      "\n",
      "1961295 French words.\n",
      "355 unique French words.\n",
      "10 Most common words in the French dataset:\n",
      "\"est\" \".\" \",\" \"en\" \"il\" \"les\" \"mais\" \"et\" \"la\" \"parfois\"\n"
     ]
    }
   ],
   "source": [
    "english_words_counter = collections.Counter([word for sentence in english_sentences for word in sentence.split()])\n",
    "french_words_counter = collections.Counter([word for sentence in french_sentences for word in sentence.split()])\n",
    "\n",
    "print('{} English words.'.format(len([word for sentence in english_sentences for word in sentence.split()])))\n",
    "print('{} unique English words.'.format(len(english_words_counter)))\n",
    "print('10 Most common words in the English dataset:')\n",
    "print('\"' + '\" \"'.join(list(zip(*english_words_counter.most_common(10)))[0]) + '\"')\n",
    "print()\n",
    "print('{} French words.'.format(len([word for sentence in french_sentences for word in sentence.split()])))\n",
    "print('{} unique French words.'.format(len(french_words_counter)))\n",
    "print('10 Most common words in the French dataset:')\n",
    "print('\"' + '\" \"'.join(list(zip(*french_words_counter.most_common(10)))[0]) + '\"')"
   ]
  },
  {
   "cell_type": "markdown",
   "metadata": {},
   "source": [
    "For comparison, _Alice's Adventures in Wonderland_ contains 2,766 unique words of a total of 15,500 words.\n",
    "## Preprocess\n",
    "For this project, you won't use text data as input to your model. Instead, you'll <font color='red'>convert the text into sequences of integers</font> using the following preprocess methods:  \n",
    "1. <font color='blue'>Tokenize the words into ids. (represent words as integer indexes)</font>\n",
    "2. <font color='blue'>Add padding to make all the sequences the same length. (all sentences have the same length(time steps, in LSTM terminology))</font>\n",
    "\n",
    "Time to start preprocessing the data...\n",
    "### Tokenize (IMPLEMENTATION)\n",
    "For a neural network to predict on text data, it first has to be turned into data it can understand. <font color='red'>Text data like \"dog\" is a sequence of ASCII character encodings.</font>  Since a neural network is a series of multiplication and addition operations, <font color='red'>the input data needs to be number(s).</font>\n",
    "\n",
    "We can <font color='red'>turn each character into a number or each word into a number</font>.  These are called <font color='red'>character and word ids</font>, respectively.  Character ids are used for character level models that generate text predictions for each character.  A word level model uses word ids that generate text predictions for each word.  Word level models tend to learn better, since they are lower in complexity, so we'll use those.\n",
    "\n",
    "<font color='red'>Turn each sentence into a sequence of words ids</font> using Keras's [`Tokenizer`](https://keras.io/preprocessing/text/#tokenizer) function. Use this function to tokenize `english_sentences` and `french_sentences` in the cell below.\n",
    "\n",
    "Running the cell will run `tokenize` on sample data and show output for debugging."
   ]
  },
  {
   "cell_type": "code",
   "execution_count": 7,
   "metadata": {},
   "outputs": [
    {
     "name": "stdout",
     "output_type": "stream",
     "text": [
      "{'the': 1, 'quick': 2, 'a': 3, 'brown': 4, 'fox': 5, 'jumps': 6, 'over': 7, 'lazy': 8, 'dog': 9, 'by': 10, 'jove': 11, 'my': 12, 'study': 13, 'of': 14, 'lexicography': 15, 'won': 16, 'prize': 17, 'this': 18, 'is': 19, 'short': 20, 'sentence': 21}\n",
      "\n",
      "Sequence 1 in x\n",
      "  Input:  The quick brown fox jumps over the lazy dog .\n",
      "  Output: [1, 2, 4, 5, 6, 7, 1, 8, 9]\n",
      "Sequence 2 in x\n",
      "  Input:  By Jove , my quick study of lexicography won a prize .\n",
      "  Output: [10, 11, 12, 2, 13, 14, 15, 16, 3, 17]\n",
      "Sequence 3 in x\n",
      "  Input:  This is a short sentence .\n",
      "  Output: [18, 19, 3, 20, 21]\n"
     ]
    }
   ],
   "source": [
    "def tokenize(x):\n",
    "    \"\"\"\n",
    "    Tokenize x\n",
    "    :param x: List of sentences/strings to be tokenized\n",
    "    :return: Tuple of (tokenized x data, tokenizer used to tokenize x)\n",
    "    \"\"\"\n",
    "    # TODO: Implement\n",
    "    x_tk = Tokenizer(char_level=False)\n",
    "    x_tk.fit_on_texts(x)\n",
    "    return x_tk.texts_to_sequences(x), x_tk\n",
    "\n",
    "tests.test_tokenize(tokenize)\n",
    "\n",
    "# Tokenize Example output\n",
    "text_sentences = [\n",
    "    'The quick brown fox jumps over the lazy dog .',\n",
    "    'By Jove , my quick study of lexicography won a prize .',\n",
    "    'This is a short sentence .']\n",
    "text_tokenized, text_tokenizer = tokenize(text_sentences)\n",
    "print(text_tokenizer.word_index)\n",
    "print()\n",
    "for sample_i, (sent, token_sent) in enumerate(zip(text_sentences, text_tokenized)):\n",
    "    print('Sequence {} in x'.format(sample_i + 1))\n",
    "    print('  Input:  {}'.format(sent))\n",
    "    print('  Output: {}'.format(token_sent))"
   ]
  },
  {
   "cell_type": "markdown",
   "metadata": {},
   "source": [
    "### Padding (IMPLEMENTATION)\n",
    "<font color='red'>When batching the sequence of word ids together, each sequence needs to be the same length.</font>  Since sentences are dynamic in length, we can add padding to the end of the sequences to make them the same length.\n",
    "\n",
    "<font color='red'>Make sure all the English sequences have the same length and all the French sequences have the same length by adding padding to the <font color='blue'>**end**</font> of each sequence</font> using Keras's [`pad_sequences`](https://keras.io/preprocessing/sequence/#pad_sequences) function."
   ]
  },
  {
   "cell_type": "code",
   "execution_count": 8,
   "metadata": {},
   "outputs": [
    {
     "name": "stdout",
     "output_type": "stream",
     "text": [
      "Sequence 1 in x\n",
      "  Input:  [1 2 4 5 6 7 1 8 9]\n",
      "  Output: [1 2 4 5 6 7 1 8 9 0]\n",
      "Sequence 2 in x\n",
      "  Input:  [10 11 12  2 13 14 15 16  3 17]\n",
      "  Output: [10 11 12  2 13 14 15 16  3 17]\n",
      "Sequence 3 in x\n",
      "  Input:  [18 19  3 20 21]\n",
      "  Output: [18 19  3 20 21  0  0  0  0  0]\n"
     ]
    }
   ],
   "source": [
    "def pad(x, length=None):\n",
    "    \"\"\"\n",
    "    Pad x\n",
    "    :param x: List of sequences.\n",
    "    :param length: Length to pad the sequence to.  If None, use length of longest sequence in x.\n",
    "    :return: Padded numpy array of sequences\n",
    "    \"\"\"\n",
    "    # TODO: Implement\n",
    "    if(length is None):\n",
    "        length = max([len(sentence) for sentence in x])\n",
    "    return pad_sequences(sequences=x, maxlen=length, padding='post') # since we capture the maximum sentence length, truncation will not happen, so leave argument 'truncating' as default 'pre'.\n",
    "\n",
    "tests.test_pad(pad)\n",
    "\n",
    "# Pad Tokenized output\n",
    "test_pad = pad(text_tokenized)\n",
    "for sample_i, (token_sent, pad_sent) in enumerate(zip(text_tokenized, test_pad)):\n",
    "    print('Sequence {} in x'.format(sample_i + 1))\n",
    "    print('  Input:  {}'.format(np.array(token_sent)))\n",
    "    print('  Output: {}'.format(pad_sent))"
   ]
  },
  {
   "cell_type": "markdown",
   "metadata": {},
   "source": [
    "### Preprocess Pipeline\n",
    "Your focus for this project is to build neural network architecture, so we won't ask you to create a preprocess pipeline.  Instead, we've provided you with the implementation of the `preprocess` function."
   ]
  },
  {
   "cell_type": "markdown",
   "metadata": {},
   "source": [
    "#### <font color='red'>***Notes:***</font>\n",
    "**preproc_<font color='blue'>english</font>_sentences - shape (137861, 15)**:  \n",
    "Each english sentence has been tokenized to multiple individual <font color='blue'>english</font> words each of which is then converted to an integer representing an <font color='blue'>english</font> word index.  \n",
    "i.e., \"new jersey is sometimes quiet during autumn , and it is snowy in april .\" ==>\n",
    "```python\n",
    "array([17, 23,  1,  8, 67,  4, 39,  7,  3,  1, 55,  2, 44,  0,  0]) # with shape (15,)\n",
    "```\n",
    "\n",
    "**preproc_<font color='orange'>french</font>_sentences - shape (137861, 21, 1)**:  \n",
    "Each french sentence has been tokenized to multiple individual <font color='orange'>french</font> words each of which is then converted to an integer representing a <font color='orange'>french</font> word index. What's more, label ```preprocess_y``` has been reshaped from 2D (137861, 21) to 3D (137861, 21, 1) since Keras's ```sparse_categorical_crossentropy``` function requires **the labels to be in 3 dimensions**\n",
    "i.e., \"new jersey est parfois calme pendant l' automne , et il est neigeux en avril .\" ==>\n",
    "```python\n",
    "array([[ 35],\n",
    "       [ 34],\n",
    "       [  1],\n",
    "       [  8],\n",
    "       [ 67],\n",
    "       [ 37],\n",
    "       [ 11],\n",
    "       [ 24],\n",
    "       [  6],\n",
    "       [  3],\n",
    "       [  1],\n",
    "       [112],\n",
    "       [  2],\n",
    "       [ 50],\n",
    "       [  0],\n",
    "       [  0],\n",
    "       [  0],\n",
    "       [  0],\n",
    "       [  0],\n",
    "       [  0],\n",
    "       [  0]]) # with shape (21,1)\n",
    "```"
   ]
  },
  {
   "cell_type": "markdown",
   "metadata": {},
   "source": [
    "**ndarray.reshape()**:\n",
    "```python\n",
    "preprocess_y.reshape(*preprocess_y.shape, 1)  \n",
    "==> preprocess_y.reshape((*preprocess_y.shape, 1))  \n",
    "==> preprocess_y.reshape((preprocess_y.shape[0], preprocess_y.shape[1], 1))\n",
    "# * - break the tuple, i.e., preprocess_y.shape => (137861, 21), however, *preprocess_y.shape => 137861 21\n",
    "```"
   ]
  },
  {
   "cell_type": "code",
   "execution_count": 31,
   "metadata": {
    "scrolled": true
   },
   "outputs": [
    {
     "name": "stdout",
     "output_type": "stream",
     "text": [
      "344 {'est': 1, 'en': 2, 'il': 3, 'les': 4, 'mais': 5, 'et': 6, 'la': 7, 'parfois': 8, 'jamais': 9, 'le': 10, \"l'\": 11, 'généralement': 12, 'moins': 13, 'aimé': 14, 'au': 15, 'fruit': 16, 'préféré': 17, 'agréable': 18, 'froid': 19, 'son': 20, 'chaud': 21, 'de': 22, 'plus': 23, 'automne': 24, 'mois': 25, 'à': 26, 'elle': 27, 'citrons': 28, 'paris': 29, 'inde': 30, 'unis': 31, 'états': 32, 'france': 33, 'jersey': 34, 'new': 35, 'chine': 36, 'pendant': 37, 'pamplemousse': 38, 'mon': 39, 'votre': 40, 'juin': 41, 'printemps': 42, 'janvier': 43, 'hiver': 44, 'mars': 45, 'été': 46, 'mai': 47, 'septembre': 48, 'juillet': 49, 'avril': 50, 'novembre': 51, 'décembre': 52, 'février': 53, 'octobre': 54, 'aime': 55, 'août': 56, 'merveilleux': 57, 'relaxant': 58, 'doux': 59, 'humide': 60, 'notre': 61, 'californie': 62, 'sec': 63, 'leur': 64, 'occupé': 65, 'pluvieux': 66, 'calme': 67, 'beau': 68, 'habituellement': 69, 'pommes': 70, 'pêches': 71, 'oranges': 72, 'poires': 73, 'fraises': 74, 'bananes': 75, 'verts': 76, 'raisins': 77, 'mangues': 78, \"d'\": 79, 'mangue': 80, 'gel': 81, 'raisin': 82, 'pomme': 83, \"l'orange\": 84, 'citron': 85, 'chaux': 86, 'banane': 87, 'poire': 88, 'fraise': 89, 'pêche': 90, 'pas': 91, 'enneigée': 92, 'favori': 93, 'déteste': 94, 'gèle': 95, 'fruits': 96, 'voiture': 97, \"l'automne\": 98, 'ils': 99, \"n'aime\": 100, 'california': 101, 'neige': 102, 'fait': 103, 'belle': 104, 'ne': 105, 'vous': 106, 'nous': 107, 'des': 108, 'animal': 109, 'camion': 110, 'cours': 111, 'neigeux': 112, 'conduit': 113, 'prochain': 114, 'ce': 115, 'je': 116, 'tranquille': 117, 'a': 118, 'cher': 119, 'une': 120, 'cette': 121, 'était': 122, 'aller': 123, 'aiment': 124, 'chaude': 125, 'aimons': 126, \"n'aiment\": 127, \"n'aimez\": 128, 'leurs': 129, 'aimez': 130, 'sont': 131, 'détestons': 132, 'jaune': 133, 'rouge': 134, \"j'aime\": 135, 'visiter': 136, 'sèche': 137, 'occupée': 138, 'frisquet': 139, 'préférée': 140, 'animaux': 141, 'dernier': 142, 'aimait': 143, 'un': 144, 'conduisait': 145, 'que': 146, 'nouvelle': 147, 'vieille': 148, 'vu': 149, 'verte': 150, 'petite': 151, 'nos': 152, 'noire': 153, 'brillant': 154, 'blanche': 155, 'redouté': 156, 'pleut': 157, \"n'aimait\": 158, 'pamplemousses': 159, 'pense': 160, 'entre': 161, 'bleue': 162, 'nouveau': 163, 'traduire': 164, 'rouillée': 165, 'bleu': 166, 'se': 167, 'grande': 168, 'rouillé': 169, 'ses': 170, \"qu'il\": 171, 'blanc': 172, 'aux': 173, 'brillante': 174, 'préférés': 175, 'noir': 176, 'pluies': 177, 'envisage': 178, 'étaient': 179, 'va': 180, 'rendre': 181, 'vert': 182, 'vieux': 183, 'petit': 184, 'espagnol': 185, 'portugais': 186, 'chinois': 187, 'anglais': 188, 'français': 189, 'glaciales': 190, 'mes': 191, 'cet': 192, 'automobile': 193, 'traduction': 194, 'mouillé': 195, 'difficile': 196, 'amusant': 197, 'facile': 198, 'comme': 199, 'gros': 200, 'souris': 201, 'pourrait': 202, 'voulait': 203, 'veut': 204, 'pourquoi': 205, 'aimés': 206, 'prévois': 207, 'prévoyons': 208, 'vos': 209, 'intention': 210, 'clémentes': 211, 'ont': 212, 'chat': 213, 'requin': 214, 'cheval': 215, 'chien': 216, 'singe': 217, 'lion': 218, 'ours': 219, 'lapin': 220, 'serpent': 221, 'redoutés': 222, 'allé': 223, 'grosse': 224, 'pluie': 225, 'trop': 226, 'monde': 227, 'maillot': 228, 'vont': 229, 'volant': 230, 'avez': 231, 'i': 232, 'allés': 233, 'allée': 234, 'quand': 235, 'oiseau': 236, 'éléphant': 237, 'pourraient': 238, 'voulaient': 239, 'veulent': 240, 'détendre': 241, 'aimée': 242, 'magnifique': 243, \"l'automobile\": 244, \"n'aimons\": 245, 'gelé': 246, 'détestait': 247, 'grand': 248, 'bien': 249, 'vers': 250, 'prévoient': 251, 'prévoit': 252, 'lui': 253, 'visite': 254, 'comment': 255, 'éléphants': 256, 'chevaux': 257, 'chiens': 258, \"l'éléphant\": 259, \"l'oiseau\": 260, 'requins': 261, \"l'ours\": 262, 'serpents': 263, 'chats': 264, 'lapins': 265, 'singes': 266, 'oiseaux': 267, 'lions': 268, 'légère': 269, 'cépage': 270, 'pensez': 271, 'tour': 272, 'eiffel': 273, \"l'épicerie\": 274, 'terrain': 275, 'football': 276, 'lac': 277, \"l'école\": 278, \"l'animal\": 279, \"n'est\": 280, 'allons': 281, 'allez': 282, 'peu': 283, 'pousse': 284, 'du': 285, 'temps': 286, 'at': 287, 'rouille': 288, 'sur': 289, \"qu'elle\": 290, 'petites': 291, 'dernière': 292, 'êtes': 293, 'vais': 294, 'voudrait': 295, 'proches': 296, 'frais': 297, 'manguiers': 298, 'avons': 299, 't': 300, 'porcelaine': 301, 'détestez': 302, \"c'est\": 303, 'grandes': 304, 'préférées': 305, 'douce': 306, 'durant': 307, 'congélation': 308, 'plaît': 309, 'où': 310, 'dans': 311, 'voulez': 312, 'aimeraient': 313, \"n'a\": 314, 'petits': 315, 'grands': 316, 'limes': 317, 'envisagent': 318, 'grosses': 319, 'bénigne': 320, 'mouillée': 321, 'enneigé': 322, 'moindres': 323, 'conduite': 324, 'gelés': 325, 'tout': 326, 'etats': 327, \"n'êtes\": 328, 'vit': 329, 'ressort': 330, 'détend': 331, 'redoutée': 332, 'tu': 333, 'qui': 334, 'traduis': 335, 'apprécié': 336, 'allions': 337, 'trouvé': 338, 'as': 339, 'faire': 340, 'favoris': 341, 'souvent': 342, 'es': 343, 'moteur': 344}\n"
     ]
    }
   ],
   "source": [
    "print(len(french_tokenizer.word_index), french_tokenizer.word_index)"
   ]
  },
  {
   "cell_type": "code",
   "execution_count": 32,
   "metadata": {
    "scrolled": true
   },
   "outputs": [
    {
     "name": "stdout",
     "output_type": "stream",
     "text": [
      "199 {'is': 1, 'in': 2, 'it': 3, 'during': 4, 'the': 5, 'but': 6, 'and': 7, 'sometimes': 8, 'usually': 9, 'never': 10, 'favorite': 11, 'least': 12, 'fruit': 13, 'most': 14, 'loved': 15, 'liked': 16, 'new': 17, 'paris': 18, 'india': 19, 'united': 20, 'states': 21, 'california': 22, 'jersey': 23, 'france': 24, 'china': 25, 'he': 26, 'she': 27, 'grapefruit': 28, 'your': 29, 'my': 30, 'his': 31, 'her': 32, 'fall': 33, 'june': 34, 'spring': 35, 'january': 36, 'winter': 37, 'march': 38, 'autumn': 39, 'may': 40, 'nice': 41, 'september': 42, 'july': 43, 'april': 44, 'november': 45, 'summer': 46, 'december': 47, 'february': 48, 'our': 49, 'their': 50, 'freezing': 51, 'pleasant': 52, 'beautiful': 53, 'october': 54, 'snowy': 55, 'warm': 56, 'cold': 57, 'wonderful': 58, 'dry': 59, 'busy': 60, 'august': 61, 'chilly': 62, 'rainy': 63, 'mild': 64, 'wet': 65, 'relaxing': 66, 'quiet': 67, 'hot': 68, 'dislikes': 69, 'likes': 70, 'limes': 71, 'lemons': 72, 'grapes': 73, 'mangoes': 74, 'apples': 75, 'peaches': 76, 'oranges': 77, 'pears': 78, 'strawberries': 79, 'bananas': 80, 'to': 81, 'grape': 82, 'apple': 83, 'orange': 84, 'lemon': 85, 'lime': 86, 'banana': 87, 'mango': 88, 'pear': 89, 'strawberry': 90, 'peach': 91, 'like': 92, 'dislike': 93, 'they': 94, 'that': 95, 'i': 96, 'we': 97, 'you': 98, 'animal': 99, 'a': 100, 'truck': 101, 'car': 102, 'automobile': 103, 'was': 104, 'next': 105, 'go': 106, 'driving': 107, 'visit': 108, 'little': 109, 'big': 110, 'old': 111, 'yellow': 112, 'red': 113, 'rusty': 114, 'blue': 115, 'white': 116, 'black': 117, 'green': 118, 'shiny': 119, 'are': 120, 'last': 121, 'feared': 122, 'animals': 123, 'this': 124, 'plan': 125, 'going': 126, 'saw': 127, 'disliked': 128, 'drives': 129, 'drove': 130, 'between': 131, 'translate': 132, 'plans': 133, 'were': 134, 'went': 135, 'might': 136, 'wanted': 137, 'thinks': 138, 'spanish': 139, 'portuguese': 140, 'chinese': 141, 'english': 142, 'french': 143, 'translating': 144, 'difficult': 145, 'fun': 146, 'easy': 147, 'wants': 148, 'think': 149, 'why': 150, \"it's\": 151, 'did': 152, 'cat': 153, 'shark': 154, 'bird': 155, 'mouse': 156, 'horse': 157, 'elephant': 158, 'dog': 159, 'monkey': 160, 'lion': 161, 'bear': 162, 'rabbit': 163, 'snake': 164, 'when': 165, 'want': 166, 'do': 167, 'how': 168, 'elephants': 169, 'horses': 170, 'dogs': 171, 'sharks': 172, 'snakes': 173, 'cats': 174, 'rabbits': 175, 'monkeys': 176, 'bears': 177, 'birds': 178, 'lions': 179, 'mice': 180, \"didn't\": 181, 'eiffel': 182, 'tower': 183, 'grocery': 184, 'store': 185, 'football': 186, 'field': 187, 'lake': 188, 'school': 189, 'would': 190, \"aren't\": 191, 'been': 192, 'weather': 193, 'does': 194, 'has': 195, \"isn't\": 196, 'am': 197, 'where': 198, 'have': 199}\n"
     ]
    }
   ],
   "source": [
    "print(len(english_tokenizer.word_index), english_tokenizer.word_index)"
   ]
  },
  {
   "cell_type": "code",
   "execution_count": 9,
   "metadata": {},
   "outputs": [
    {
     "name": "stdout",
     "output_type": "stream",
     "text": [
      "Data Preprocessed\n",
      "Max English sentence length: 15\n",
      "Max French sentence length: 21\n",
      "English vocabulary size: 199\n",
      "French vocabulary size: 344\n"
     ]
    }
   ],
   "source": [
    "def preprocess(x, y):\n",
    "    \"\"\"\n",
    "    Preprocess x and y\n",
    "    :param x: Feature List of sentences\n",
    "    :param y: Label List of sentences\n",
    "    :return: Tuple of (Preprocessed x, Preprocessed y, x tokenizer, y tokenizer)\n",
    "    \"\"\"\n",
    "    preprocess_x, x_tk = tokenize(x)\n",
    "    preprocess_y, y_tk = tokenize(y)\n",
    "\n",
    "    preprocess_x = pad(preprocess_x)\n",
    "    preprocess_y = pad(preprocess_y)\n",
    "\n",
    "    # Keras's sparse_categorical_crossentropy function requires the labels to be in 3 dimensions\n",
    "    preprocess_y = preprocess_y.reshape(*preprocess_y.shape, 1)\n",
    "\n",
    "    return preprocess_x, preprocess_y, x_tk, y_tk\n",
    "\n",
    "preproc_english_sentences, preproc_french_sentences, english_tokenizer, french_tokenizer =\\\n",
    "    preprocess(english_sentences, french_sentences)\n",
    "    \n",
    "max_english_sequence_length = preproc_english_sentences.shape[1]\n",
    "max_french_sequence_length = preproc_french_sentences.shape[1]\n",
    "english_vocab_size = len(english_tokenizer.word_index)\n",
    "french_vocab_size = len(french_tokenizer.word_index)\n",
    "\n",
    "print('Data Preprocessed')\n",
    "print(\"Max English sentence length:\", max_english_sequence_length)\n",
    "print(\"Max French sentence length:\", max_french_sequence_length)\n",
    "print(\"English vocabulary size:\", english_vocab_size)\n",
    "print(\"French vocabulary size:\", french_vocab_size)"
   ]
  },
  {
   "cell_type": "markdown",
   "metadata": {},
   "source": [
    "## Models\n",
    "In this section, you will experiment with various neural network architectures.\n",
    "You will begin by training four relatively simple architectures.\n",
    "- Model 1 is a simple RNN\n",
    "- Model 2 is a RNN with Embedding\n",
    "- Model 3 is a Bidirectional RNN\n",
    "- Model 4 is an optional Encoder-Decoder RNN\n",
    "\n",
    "After experimenting with the four simple architectures, you will construct a deeper architecture that is designed to outperform all four models.\n",
    "### Ids Back to Text\n",
    "The neural network will be translating the input to words ids, which isn't the final form we want.  We want the French translation.  The function `logits_to_text` will bridge the gab between the logits from the neural network to the French translation.  You'll be using this function to better understand the output of the neural network."
   ]
  },
  {
   "cell_type": "code",
   "execution_count": 10,
   "metadata": {},
   "outputs": [
    {
     "name": "stdout",
     "output_type": "stream",
     "text": [
      "`logits_to_text` function loaded.\n"
     ]
    }
   ],
   "source": [
    "def logits_to_text(logits, tokenizer):\n",
    "    \"\"\"\n",
    "    Turn logits from a neural network into text using the tokenizer\n",
    "    :param logits: Logits from a neural network\n",
    "    :param tokenizer: Keras Tokenizer fit on the labels\n",
    "    :return: String that represents the text of the logits\n",
    "    \"\"\"\n",
    "    index_to_words = {id: word for word, id in tokenizer.word_index.items()}\n",
    "    index_to_words[0] = '<PAD>'\n",
    "\n",
    "    return ' '.join([index_to_words[prediction] for prediction in np.argmax(logits, 1)])\n",
    "\n",
    "print('`logits_to_text` function loaded.')"
   ]
  },
  {
   "cell_type": "markdown",
   "metadata": {},
   "source": [
    "### Model 1: RNN (IMPLEMENTATION)\n",
    "![RNN](images/rnn.png)\n",
    "A basic RNN model is a good baseline for sequence data.  In this model, you'll build a RNN that translates English to French."
   ]
  },
  {
   "cell_type": "code",
   "execution_count": 11,
   "metadata": {},
   "outputs": [
    {
     "name": "stdout",
     "output_type": "stream",
     "text": [
      "english length - 15, [17 23  1  8 67  4 39  7  3  1 55  2 44  0  0]\n",
      "french length - 21, [17 23  1  8 67  4 39  7  3  1 55  2 44  0  0  0  0  0  0  0  0]\n"
     ]
    }
   ],
   "source": [
    "# Explanations: \"tmp_x = pad(preproc_english_sentences, max_french_sequence_length)\"\n",
    "print(f\"english length - {len(preproc_english_sentences[0])}, {preproc_english_sentences[0]}\")\n",
    "print(f\"french length - {len(pad(preproc_english_sentences[:3], 21)[0])}, {pad(preproc_english_sentences[:3], 21)[0]}\")"
   ]
  },
  {
   "cell_type": "code",
   "execution_count": 12,
   "metadata": {},
   "outputs": [
    {
     "name": "stdout",
     "output_type": "stream",
     "text": [
      "(137861, 21)\n",
      "(137861, 21, 1)\n"
     ]
    }
   ],
   "source": [
    "example_tmp_x = pad(preproc_english_sentences, max_french_sequence_length)\n",
    "example_tmp_x_reshape = example_tmp_x.reshape((-1, preproc_french_sentences.shape[1], 1))\n",
    "\n",
    "print(example_tmp_x.shape)\n",
    "print(example_tmp_x_reshape.shape)\n",
    "\n",
    "# 3-dimension array: (number_of_sequences(sentences), number_of_words_in_each_sequence(sentence), number_of_element_in_each_dimension(1 here, represent a word index))"
   ]
  },
  {
   "cell_type": "code",
   "execution_count": 13,
   "metadata": {},
   "outputs": [
    {
     "name": "stdout",
     "output_type": "stream",
     "text": [
      "1 dimension array with 21 elements, shape = (21,):\n",
      "[17 23  1  8 67  4 39  7  3  1 55  2 44  0  0  0  0  0  0  0  0]\n",
      "21 dimensions array, each dimension has 1 element, shape = (21, 1):\n",
      "[[17]\n",
      " [23]\n",
      " [ 1]\n",
      " [ 8]\n",
      " [67]\n",
      " [ 4]\n",
      " [39]\n",
      " [ 7]\n",
      " [ 3]\n",
      " [ 1]\n",
      " [55]\n",
      " [ 2]\n",
      " [44]\n",
      " [ 0]\n",
      " [ 0]\n",
      " [ 0]\n",
      " [ 0]\n",
      " [ 0]\n",
      " [ 0]\n",
      " [ 0]\n",
      " [ 0]]\n"
     ]
    }
   ],
   "source": [
    "# Reference link: https://stackoverflow.com/questions/22053050/difference-between-numpy-array-shape-r-1-and-r\n",
    "print(f\"1 dimension array with 21 elements, shape = {example_tmp_x[0].shape}:\")\n",
    "print(example_tmp_x[0])\n",
    "print(f\"21 dimensions array, each dimension has 1 element, shape = {example_tmp_x_reshape[0].shape}:\")\n",
    "print(example_tmp_x_reshape[0])"
   ]
  },
  {
   "cell_type": "markdown",
   "metadata": {},
   "source": [
    "<font color='red'>***Notes:***</font>  \n",
    "**GRU Layer input shape** - 3D tensor: [batch_size, timesteps, num_of_features]  \n",
    "[reference link](https://stackoverflow.com/questions/47268608/confusion-about-keras-rnn-input-shape-requirement)  \n",
    "***(\"timesteps\" and \"sequence_length\" can be used interchangeably)***  \n",
    "- **batch_size**: we can divide all 137861 sequences(sentences) into multiple chunks with same number of unique sequences(sentences). For example, batch_size=32 means we take the first 32 sequences(sentences) as a batch chunk, then 33-64th sequences(sentences) as a batch chunk, ..., until the last batch chunk (even though not enough 32 sequences/sentences).\n",
    "- **timesteps**: each sentence now have the same length of 15(in english words) or 21(in french words), so <font color='red'>timesteps here is **21**</font> since we are translating english to french, meaning inputs are in english but labels are in french, need to match the timesteps with labels.  \n",
    "- **num_of_features**: each word index is a feature, since each sequence/sentence has been converted to a (21,1) 2D array, so <font color='red'>here the value should be 1</font> representing one integer (each word index in each sequence/sentence).  \n",
    "\n",
    "**TimeDistributed Dense Layer**:  \n",
    "[reference link](https://machinelearningmastery.com/timedistributed-layer-for-long-short-term-memory-networks-in-python/)  \n",
    "\n",
    "**A dense layer is a fully-connected layer**. The terminology \"dense layer\" and \"fully-connected layer\" are used interchangeably.  "
   ]
  },
  {
   "cell_type": "markdown",
   "metadata": {},
   "source": [
    "<font color='red'>**!!! Why does ```input_shape``` argument have value ```input_shape[1:]``` rather than ```input_shape```?**:</font>  \n",
    "[reference link](https://github.com/keras-team/keras/issues/7403)  \n",
    "Keras' convention is that **the batch dimension (number of examples/samples (not the same as timesteps)) is typically <font color='red'>omitted</font> in the input_shape arguments**. The batching (number of examples/samples per batch) is handled in the fit call - ```model.fit(batch=...)```."
   ]
  },
  {
   "cell_type": "markdown",
   "metadata": {},
   "source": [
    "The last Dense layer of the model should have ```n_classes``` hidden units. Here, the number of units for the last Dense layer is ```french_vocab_size```."
   ]
  },
  {
   "cell_type": "code",
   "execution_count": 13,
   "metadata": {},
   "outputs": [],
   "source": [
    "# Build a basic RNN model with Sequential():\n",
    "\n",
    "def simple_model_sequential(input_shape, output_sequence_length, english_vocab_size, french_vocab_size):\n",
    "    \"\"\"\n",
    "    Build and train a basic RNN on x and y\n",
    "    :param input_shape: Tuple of input shape\n",
    "    :param output_sequence_length: Length of output sequence\n",
    "    :param english_vocab_size: Number of unique English words in the dataset\n",
    "    :param french_vocab_size: Number of unique French words in the dataset\n",
    "    :return: Keras model built, but not trained\n",
    "    \"\"\"\n",
    "    # TODO: Build the layers\n",
    "    learning_rate = 2e-3\n",
    "    hidden_state_units = 256\n",
    "    \n",
    "    # 2 GRU layers + 2 fully-connected dense layers(TimeDistributed)\n",
    "    model = Sequential()\n",
    "    model.add(GRU(units=hidden_state_units, activation='relu', dropout=0.3, return_sequences=True, input_shape=input_shape[1:]))\n",
    "    model.add(GRU(units=hidden_state_units, activation='relu', dropout=0.3, return_sequences=True))\n",
    "    model.add(TimeDistributed(Dense(units=1024, activation='relu')))\n",
    "    model.add(Dropout(0.3))\n",
    "    model.add(TimeDistributed(Dense(units=french_vocab_size, activation='softmax'))) \n",
    "    \n",
    "    model.compile(loss=sparse_categorical_crossentropy,\n",
    "                  optimizer=Adam(learning_rate),\n",
    "                  metrics=['accuracy'])\n",
    "    return model"
   ]
  },
  {
   "cell_type": "code",
   "execution_count": 14,
   "metadata": {
    "scrolled": true
   },
   "outputs": [],
   "source": [
    "# Build a basic RNN by defining each layer separately:\n",
    "\n",
    "def simple_model(input_shape, output_sequence_length, english_vocab_size, french_vocab_size):\n",
    "    \"\"\"\n",
    "    Build and train a basic RNN on x and y\n",
    "    :param input_shape: Tuple of input shape\n",
    "    :param output_sequence_length: Length of output sequence\n",
    "    :param english_vocab_size: Number of unique English words in the dataset\n",
    "    :param french_vocab_size: Number of unique French words in the dataset\n",
    "    :return: Keras model built, but not trained\n",
    "    \"\"\"\n",
    "    # TODO: Build the layers\n",
    "    learning_rate = 2e-3\n",
    "    hidden_state_units = 256\n",
    "    \n",
    "    inputs = Input(shape=input_shape[1:]) # here the shape is a tuple (integers) NOT including the batch size - meaning (timesteps, num_of_features) - reference link: https://keras.io/api/layers/core_layers/input/\n",
    "    hidden_state_1 = GRU(units=hidden_state_units, return_sequences=True, dropout=0.3)(inputs)\n",
    "    hidden_state_2 = GRU(units=hidden_state_units, return_sequences=True, dropout=0.3)(hidden_state_1)\n",
    "    fully_connect_1 = TimeDistributed(Dense(units=1024, activation='relu'))(hidden_state_2)\n",
    "    fully_connect_2 = TimeDistributed(Dense(units=french_vocab_size))(fully_connect_1)\n",
    "    outputs = Activation(activation='softmax')(fully_connect_2)\n",
    "    \n",
    "    model = Model(inputs=inputs, outputs=outputs)\n",
    "    \n",
    "    model.compile(loss=sparse_categorical_crossentropy,\n",
    "                  optimizer=Adam(learning_rate),\n",
    "                  metrics=['accuracy'])\n",
    "    return model\n",
    "\n",
    "tests.test_simple_model(simple_model)"
   ]
  },
  {
   "cell_type": "markdown",
   "metadata": {},
   "source": [
    "***<font color='red'>Notes:</font>***  \n",
    "Input of GRU layer needs to be a 3D tensor (see above notes), and timesteps of the input should be equivalant to the output.  \n",
    "For example, here we need to do the following:  \n",
    "- (1). post-pad 0 on all sentences within preproc_english_sentences so that each english sentence now has the same length of 21 which is the maximum frenche sentence length;  \n",
    "- (2). reshape this **new** preproc_english_sentences from 2D tensor with shape (137861, 21) to 3D tensor with shape (137861, 21, 1).  \n",
    "\n",
    "Note that original ```preproc_english_sentences``` has shape (137861, 15), however, since we applied the zero-post-padding in step (1), so the **new**```preproc_english_sentences``` now has **new** shape (137861, 21).  \n",
    "\n",
    "**<font color='red'>One important thing</font>**, <font color='blue'>although the input of GRU layer is a 3D tensor, the ```input_shape``` argument in ```GRU(..., input_shape=...)``` should be set as ```tmp_x.shape[1:]``` rather than ```tmp_x.shape```.</font> The reason is that batch dimension (batch_size) is omitted in ```input_shape``` argument, instead, its value is set in ```.fit(batch=...)```. Same for ```Input(shape=...)```, here should be ```tmp_x.shape[1:]```, you can ignore the ```batch_shape``` argument here and set it in ```.fit(batch=...)```.  \n",
    "(see above notes)"
   ]
  },
  {
   "cell_type": "code",
   "execution_count": 11,
   "metadata": {},
   "outputs": [],
   "source": [
    "# Reshaping the input to work with a basic RNN\n",
    "# Why reshape tmp_x from 2D tensor to 3D tensor? - see above cell\n",
    "# GRU layer accepts a 3D tensor with shape [batch_size, timesteps, num_of_feature] ==> [-1, preproc_french_sentences.shape[-2], 1]\n",
    "# reference link: https://keras.io/api/layers/recurrent_layers/gru/\n",
    "\n",
    "tmp_x = pad(preproc_english_sentences, max_french_sequence_length) # convert english sentences (all have converted to maximum engligh-length 15) to have the same length as maximum french-length 21\n",
    "tmp_x = tmp_x.reshape((-1, preproc_french_sentences.shape[-2], 1)) # here is a 3D tensor, reshape tmp_x from 2D - (137861, 21) to 3D - (137861, 21, 1)"
   ]
  },
  {
   "cell_type": "code",
   "execution_count": 17,
   "metadata": {
    "scrolled": false
   },
   "outputs": [
    {
     "name": "stdout",
     "output_type": "stream",
     "text": [
      "_________________________________________________________________\n",
      "Layer (type)                 Output Shape              Param #   \n",
      "=================================================================\n",
      "input_2 (InputLayer)         (None, 21, 1)             0         \n",
      "_________________________________________________________________\n",
      "gru_3 (GRU)                  (None, 21, 256)           198144    \n",
      "_________________________________________________________________\n",
      "gru_4 (GRU)                  (None, 21, 256)           393984    \n",
      "_________________________________________________________________\n",
      "time_distributed_3 (TimeDist (None, 21, 1024)          263168    \n",
      "_________________________________________________________________\n",
      "time_distributed_4 (TimeDist (None, 21, 345)           353625    \n",
      "_________________________________________________________________\n",
      "activation_2 (Activation)    (None, 21, 345)           0         \n",
      "=================================================================\n",
      "Total params: 1,208,921\n",
      "Trainable params: 1,208,921\n",
      "Non-trainable params: 0\n",
      "_________________________________________________________________\n",
      "None\n",
      "Train on 110288 samples, validate on 27573 samples\n",
      "Epoch 1/10\n",
      "110288/110288 [==============================] - 23s 206us/step - loss: 2.8087 - acc: 0.4507 - val_loss: 1.9735 - val_acc: 0.5214\n",
      "Epoch 2/10\n",
      "110288/110288 [==============================] - 22s 197us/step - loss: 1.8678 - acc: 0.5502 - val_loss: 1.6074 - val_acc: 0.5709\n",
      "Epoch 3/10\n",
      "110288/110288 [==============================] - 22s 198us/step - loss: 1.5279 - acc: 0.5891 - val_loss: 1.7482 - val_acc: 0.5614\n",
      "Epoch 4/10\n",
      "110288/110288 [==============================] - 22s 199us/step - loss: 1.3671 - acc: 0.6130 - val_loss: 2.1911 - val_acc: 0.5259\n",
      "Epoch 5/10\n",
      "110288/110288 [==============================] - 22s 199us/step - loss: 1.2725 - acc: 0.6295 - val_loss: 2.2853 - val_acc: 0.5315\n",
      "Epoch 6/10\n",
      "110288/110288 [==============================] - 22s 199us/step - loss: 1.1968 - acc: 0.6425 - val_loss: 2.4521 - val_acc: 0.5384\n",
      "Epoch 7/10\n",
      "110288/110288 [==============================] - 22s 199us/step - loss: 1.1512 - acc: 0.6487 - val_loss: 2.6536 - val_acc: 0.5450\n",
      "Epoch 8/10\n",
      "110288/110288 [==============================] - 22s 199us/step - loss: 1.1128 - acc: 0.6536 - val_loss: 2.8842 - val_acc: 0.5411\n",
      "Epoch 9/10\n",
      "110288/110288 [==============================] - 22s 199us/step - loss: 1.0892 - acc: 0.6568 - val_loss: 2.9895 - val_acc: 0.5375\n",
      "Epoch 10/10\n",
      "110288/110288 [==============================] - 22s 199us/step - loss: 1.0582 - acc: 0.6621 - val_loss: 3.0454 - val_acc: 0.5431\n"
     ]
    }
   ],
   "source": [
    "# TODO: Train the neural network (SimpleRNN)\n",
    "simple_rnn_model = simple_model(\n",
    "    tmp_x.shape,\n",
    "    max_french_sequence_length,\n",
    "    english_vocab_size+1, # len(english_vocab_size)+1 == english_vocab_size+1, if not set as vocabulary size + 1, then val_loss will be nan\n",
    "    french_vocab_size+1) # len(french_vocab_size)+1 == french_vocab_size+1, if not set as vocabulary size + 1, then val_loss will be nan\n",
    "\n",
    "print(simple_rnn_model.summary())\n",
    "\n",
    "history_simple_rnn = simple_rnn_model.fit(tmp_x, preproc_french_sentences, batch_size=2048, epochs=10, validation_split=0.2)"
   ]
  },
  {
   "cell_type": "code",
   "execution_count": 19,
   "metadata": {},
   "outputs": [
    {
     "name": "stdout",
     "output_type": "stream",
     "text": [
      "English: \n",
      "the united states is usually chilly during july , and it is usually freezing in november .\n",
      "French: \n",
      "les états-unis est généralement froid en juillet , et il gèle habituellement en novembre .\n",
      "\n",
      "Machine translation in French: \n",
      "les états unis est parfois agréable en juin mais il est est agréable en l'\n"
     ]
    }
   ],
   "source": [
    "# TODO: Print prediction(s)\n",
    "print(f\"English: \\n{english_sentences[1]}\")\n",
    "print(f\"French: \\n{french_sentences[1]}\")\n",
    "print()\n",
    "print(f\"Machine translation in French: \\n{logits_to_text(simple_rnn_model.predict(tmp_x[:2])[1], french_tokenizer).replace('<PAD> ','').replace(' <PAD> ','').replace(' <PAD>','')}\")"
   ]
  },
  {
   "cell_type": "markdown",
   "metadata": {},
   "source": [
    "<font color='red'>***Notes:***</font>  \n",
    "<font color='red'>**Thoughts on the results:**</font>  \n",
    "As the epoch goes up, the accuracy increases slowly. Although I tried to increase the batch_size from 1024 to 2048 so that the model will have more data to train before updating weights (in other words, weights get less time to be updated), the benefits were not so quite obvious. I think this is becase of the vanishing gradient problem which leads to those weights getting smaller updates or even no updates (gradient is much close to 0, which stops the network from training)"
   ]
  },
  {
   "cell_type": "markdown",
   "metadata": {},
   "source": [
    "### Model 2: Embedding (IMPLEMENTATION)\n",
    "![RNN](images/embedding.png)\n",
    "<font color='red'>You've turned the words into ids, but there's a better representation of a word</font>.  This is called <font color='red'>word embeddings</font>.  An embedding is a vector representation of the word that is close to similar words in n-dimensional space, where the n represents the size of the embedding vectors.\n",
    "\n",
    "In this model, you'll <font color='red'>create a RNN model using embedding.</font>"
   ]
  },
  {
   "cell_type": "markdown",
   "metadata": {},
   "source": [
    "<font color='red'>***Notes:***</font>  \n",
    "**Embedding Layer input shape** - 2D tensor: [batch_size, input_length]  \n",
    "***(\"sequence\" and \"sentence\" can be used interchangeably)***  \n",
    "- **batch_size**: total number of sequences/sentences in the dataset. \"-1\" in tmp_x.reshape(<font color='red'>(-1, preproc_french_sentences.shape[1])</font>) for <font color='red'>embedding layer</font> is an unknown dimension and we want numpy to figure it out, numpy will look at the original array and know that the original array has dimension 137861, so that -1 here represents 137861.\n",
    "- **sequence_length**: [official keras documentation](https://keras.io/layers/embeddings/) write this as input_length which causes confusion, just think of input_length as sequence_length, since each sequence is actually a sentence, thus sequence_length is also sentence_length, and each sentence is now having the same length since we already applied the zero-post-padding before doing ```tmp_x.reshape((-1, preproc_french_sentences.shape[1]))```.   \n",
    "\n",
    "**Embedding Layer must specify 3 arguments**:\n",
    "- **input_dim**: size of the vocabulary, (can be maximum integer index + 1). If use embedding on categorical features (Cat2Vec), then this should be the number of unique categories in a categorical feature, i.e. 12(13 if using index + 1) for January(0) to December(11), and 7(8 if using index + 1) for Monday(0) to Sunday(6). Here, the input_dim is english_vocab_size (not using index + 1 here).\n",
    "- **output_dim**: size of the vector space in \"embedding matrix\"(if using one-hot encoding) or \"lookup table\"(if using label encoding). For example, here I want to convert each word(represented by an integer as this word's word index, i.e. label encoding here) to a vector with 300 floats (ventor with 300 dimensions), then output_dim=300. This process is like: (1) map a single integer (i.e. word index) to 300 floats, if label encoding; (2) map a one-hot encoded array say [0,0,1,0] to 300 floats, if one-hot encoding. \n",
    "- **input_length**: the length of input sequences. Since we've converted all sequences/sentences with different sentence length originally to have same length (take maximum length from all french sentences as the global length, then post-pad 0 on short sentences), so the input_length here is 21. \n",
    "\n",
    "\n",
    "**Remember**, the input_shape argument in ```Embedding(input_shape=...)``` should **<font color='red'>NOT</font>** include batch dimension (batch_size). Since embedding layer accepts a 2D tensor, here it should be set as ```input_shape=tmp_x.shape[1:]```. Put it another way, ```tmp_x.shape[1:]``` is actually ```(21,)``` where 21 is the sequence_length (maximum french sentence length).\n",
    "[reference link](https://stackoverflow.com/questions/53465475/confusion-about-input-shape-for-keras-embedding-layer)"
   ]
  },
  {
   "cell_type": "code",
   "execution_count": 20,
   "metadata": {},
   "outputs": [],
   "source": [
    "# Build RNN model with Embedding by using Sequential():\n",
    "\n",
    "def embed_model_sequential(input_shape, output_sequence_length, english_vocab_size, french_vocab_size):\n",
    "    \"\"\"\n",
    "    Build and train a RNN model using word embedding on x and y\n",
    "    :param input_shape: Tuple of input shape\n",
    "    :param output_sequence_length: Length of output sequence\n",
    "    :param english_vocab_size: Number of unique English words in the dataset, PLUS 1\n",
    "    :param french_vocab_size: Number of unique French words in the dataset, PLUS 1\n",
    "    :return: Keras model built, but not trained\n",
    "    \"\"\"\n",
    "    # Notice that the argument english_vocab_size here is actually vocabulary size + 1 - \"len(english_vocab_size)+1\"\n",
    "    # The same to french_vocab_size\n",
    "    # TODO: Implement\n",
    "    learning_rate = 2e-3\n",
    "    hidden_state_units = 256\n",
    "    embedding_dim = 300\n",
    "    \n",
    "    model = Sequential()\n",
    "    model.add(Embedding(input_dim=english_vocab_size, output_dim=embedding_dim, input_length=input_shape[1], input_shape=input_shape[1:]))\n",
    "    model.add(GRU(units=hidden_state_units, activation='relu', return_sequences=True, dropout=0.3))\n",
    "    model.add(GRU(units=hidden_state_units, activation='relu', return_sequences=True, dropout=0.3))\n",
    "    model.add(TimeDistributed(Dense(units=1024, activation='relu')))\n",
    "    model.add(Dropout(0.3))\n",
    "    model.add(TimeDistributed(Dense(units=french_vocab_size, activation='softmax')))\n",
    "\n",
    "    model.compile(loss=sparse_categorical_crossentropy,\n",
    "                  optimizer=Adam(learning_rate),\n",
    "                  metrics=['accuracy'])\n",
    "    return model"
   ]
  },
  {
   "cell_type": "code",
   "execution_count": 22,
   "metadata": {},
   "outputs": [],
   "source": [
    "# Build RNN model with Embedding and define each layer separately:\n",
    "\n",
    "def embed_model(input_shape, output_sequence_length, english_vocab_size, french_vocab_size):\n",
    "    \"\"\"\n",
    "    Build and train a RNN model using word embedding on x and y\n",
    "    :param input_shape: Tuple of input shape\n",
    "    :param output_sequence_length: Length of output sequence\n",
    "    :param english_vocab_size: Number of unique English words in the dataset, PLUS 1\n",
    "    :param french_vocab_size: Number of unique French words in the dataset, PLUS 1\n",
    "    :return: Keras model built, but not trained\n",
    "    \"\"\"\n",
    "    # Notice that the argument english_vocab_size here is actually vocabulary size + 1 - \"len(english_vocab_size)+1\"\n",
    "    # The same to french_vocab_size\n",
    "    # TODO: Implement\n",
    "    learning_rate = 2e-3\n",
    "    hidden_state_units = 256\n",
    "    embedding_dim = 300\n",
    "    \n",
    "    inputs = Input(shape=input_shape[1:]) # here the shape is a tuple (integers) NOT including the batch size - meaning (timesteps, num_of_features) - reference link: https://keras.io/api/layers/core_layers/input/\n",
    "    word_embedding = Embedding(input_dim=english_vocab_size, output_dim=embedding_dim, input_length=input_shape[1])(inputs)\n",
    "    hidden_state_1 = GRU(units=hidden_state_units, activation='relu', return_sequences=True, dropout=0.3)(word_embedding)\n",
    "    hidden_state_2 = GRU(units=hidden_state_units, activation='relu', return_sequences=True, dropout=0.3)(hidden_state_1)\n",
    "    fully_connect_1 = TimeDistributed(Dense(units=1024, activation='relu'))(hidden_state_2)\n",
    "    fully_connect_2 = TimeDistributed(Dense(units=french_vocab_size))(fully_connect_1)\n",
    "    outputs = Activation(activation='softmax')(fully_connect_2)\n",
    "    \n",
    "    model = Model(inputs=inputs, outputs=outputs)\n",
    "\n",
    "    model.compile(loss=sparse_categorical_crossentropy,\n",
    "                  optimizer=Adam(learning_rate),\n",
    "                  metrics=['accuracy'])\n",
    "    return model\n",
    "\n",
    "tests.test_embed_model(embed_model)"
   ]
  },
  {
   "cell_type": "code",
   "execution_count": 23,
   "metadata": {},
   "outputs": [],
   "source": [
    "# TODO: Reshape the input\n",
    "# max_french_sequence_length == preproc_french_sentences.shape[1]\n",
    "tmp_x = pad(preproc_english_sentences, max_french_sequence_length)\n",
    "tmp_x = tmp_x.reshape((-1, preproc_french_sentences.shape[1])) # here is a 2D tensor"
   ]
  },
  {
   "cell_type": "code",
   "execution_count": 24,
   "metadata": {
    "scrolled": false
   },
   "outputs": [
    {
     "name": "stdout",
     "output_type": "stream",
     "text": [
      "_________________________________________________________________\n",
      "Layer (type)                 Output Shape              Param #   \n",
      "=================================================================\n",
      "embedding_2 (Embedding)      (None, 21, 300)           60000     \n",
      "_________________________________________________________________\n",
      "gru_7 (GRU)                  (None, 21, 256)           427776    \n",
      "_________________________________________________________________\n",
      "gru_8 (GRU)                  (None, 21, 256)           393984    \n",
      "_________________________________________________________________\n",
      "time_distributed_7 (TimeDist (None, 21, 1024)          263168    \n",
      "_________________________________________________________________\n",
      "dropout_1 (Dropout)          (None, 21, 1024)          0         \n",
      "_________________________________________________________________\n",
      "time_distributed_8 (TimeDist (None, 21, 345)           353625    \n",
      "=================================================================\n",
      "Total params: 1,498,553\n",
      "Trainable params: 1,498,553\n",
      "Non-trainable params: 0\n",
      "_________________________________________________________________\n",
      "Train on 110288 samples, validate on 27573 samples\n",
      "Epoch 1/20\n",
      "110288/110288 [==============================] - 30s 271us/step - loss: 2.4923 - acc: 0.4849 - val_loss: 1.2467 - val_acc: 0.6870\n",
      "Epoch 2/20\n",
      "110288/110288 [==============================] - 29s 264us/step - loss: 0.8616 - acc: 0.7637 - val_loss: 0.5009 - val_acc: 0.8496\n",
      "Epoch 3/20\n",
      "110288/110288 [==============================] - 29s 264us/step - loss: 0.4631 - acc: 0.8579 - val_loss: 0.3395 - val_acc: 0.8903\n",
      "Epoch 4/20\n",
      "110288/110288 [==============================] - 29s 264us/step - loss: 0.3522 - acc: 0.8869 - val_loss: 0.2791 - val_acc: 0.9071\n",
      "Epoch 5/20\n",
      "110288/110288 [==============================] - 29s 264us/step - loss: 0.2991 - acc: 0.9017 - val_loss: 0.2517 - val_acc: 0.9155\n",
      "Epoch 6/20\n",
      "110288/110288 [==============================] - 29s 264us/step - loss: 0.2676 - acc: 0.9108 - val_loss: 0.2267 - val_acc: 0.9225\n",
      "Epoch 7/20\n",
      "110288/110288 [==============================] - 29s 264us/step - loss: 0.2467 - acc: 0.9168 - val_loss: 0.2153 - val_acc: 0.9262\n",
      "Epoch 8/20\n",
      "110288/110288 [==============================] - 29s 264us/step - loss: 0.2305 - acc: 0.9215 - val_loss: 0.2031 - val_acc: 0.9300\n",
      "Epoch 9/20\n",
      "110288/110288 [==============================] - 29s 264us/step - loss: 0.2201 - acc: 0.9245 - val_loss: 0.1976 - val_acc: 0.9309\n",
      "Epoch 10/20\n",
      "110288/110288 [==============================] - 29s 265us/step - loss: 0.2104 - acc: 0.9275 - val_loss: 0.1945 - val_acc: 0.9321\n",
      "Epoch 11/20\n",
      "110288/110288 [==============================] - 29s 265us/step - loss: 0.2058 - acc: 0.9287 - val_loss: 0.1898 - val_acc: 0.9338\n",
      "Epoch 12/20\n",
      "110288/110288 [==============================] - 29s 264us/step - loss: 0.1988 - acc: 0.9306 - val_loss: 0.1881 - val_acc: 0.9340\n",
      "Epoch 13/20\n",
      "110288/110288 [==============================] - 29s 264us/step - loss: 0.1948 - acc: 0.9319 - val_loss: 0.1842 - val_acc: 0.9355\n",
      "Epoch 14/20\n",
      "110288/110288 [==============================] - 29s 264us/step - loss: 0.1908 - acc: 0.9328 - val_loss: 0.1842 - val_acc: 0.9354\n",
      "Epoch 15/20\n",
      "110288/110288 [==============================] - 29s 264us/step - loss: 0.1884 - acc: 0.9335 - val_loss: 0.1823 - val_acc: 0.9360\n",
      "Epoch 16/20\n",
      "110288/110288 [==============================] - 29s 264us/step - loss: 0.1853 - acc: 0.9344 - val_loss: 0.1801 - val_acc: 0.9365\n",
      "Epoch 17/20\n",
      "110288/110288 [==============================] - 29s 264us/step - loss: 0.1832 - acc: 0.9349 - val_loss: 0.1794 - val_acc: 0.9370\n",
      "Epoch 18/20\n",
      "110288/110288 [==============================] - 29s 264us/step - loss: 0.1803 - acc: 0.9358 - val_loss: 0.1752 - val_acc: 0.9378\n",
      "Epoch 19/20\n",
      "110288/110288 [==============================] - 29s 264us/step - loss: 0.1777 - acc: 0.9364 - val_loss: 0.1781 - val_acc: 0.9376\n",
      "Epoch 20/20\n",
      "110288/110288 [==============================] - 29s 264us/step - loss: 0.1783 - acc: 0.9362 - val_loss: 0.1790 - val_acc: 0.9375\n"
     ]
    }
   ],
   "source": [
    "# TODO: Build the neural network\n",
    "embed_rnn_model_sequential = embed_model_sequential(\n",
    "    tmp_x.shape,\n",
    "    max_french_sequence_length, # this argument is not used, I define a custom embedding_dim which is 300\n",
    "    len(english_tokenizer.word_index)+1,\n",
    "    len(french_tokenizer.word_index)+1\n",
    ")\n",
    "\n",
    "# Model summary:\n",
    "embed_rnn_model_sequential.summary()\n",
    "\n",
    "# TODO: Train the neural network (embedding layer + GRU)\n",
    "history_embed_rnn_sequential = embed_rnn_model_sequential.fit(tmp_x, preproc_french_sentences, batch_size=1024, epochs=20, validation_split=0.2)"
   ]
  },
  {
   "cell_type": "code",
   "execution_count": 25,
   "metadata": {},
   "outputs": [
    {
     "name": "stdout",
     "output_type": "stream",
     "text": [
      "English: \n",
      "the united states is usually chilly during july , and it is usually freezing in november .\n",
      "French: \n",
      "les états-unis est généralement froid en juillet , et il gèle habituellement en novembre .\n",
      "\n",
      "Machine translation in French: \n",
      "les états unis est généralement froid en juillet et il est généralement en décembre\n"
     ]
    }
   ],
   "source": [
    "# TODO: Print prediction(s)\n",
    "print(f\"English: \\n{english_sentences[1]}\")\n",
    "print(f\"French: \\n{french_sentences[1]}\")\n",
    "print()\n",
    "print(f\"Machine translation in French: \\n{logits_to_text(embed_rnn_model_sequential.predict(tmp_x[:2])[1], french_tokenizer).replace('<PAD> ','').replace(' <PAD> ','').replace(' <PAD>','')}\")"
   ]
  },
  {
   "cell_type": "markdown",
   "metadata": {},
   "source": [
    "### Model 3: Bidirectional RNNs (IMPLEMENTATION)\n",
    "![RNN](images/bidirectional.png)\n",
    "<font color='red'>One restriction of a RNN is that it can't see the future input, only the past.</font>  This is where bidirectional recurrent neural networks come in.  They are able to see the future data."
   ]
  },
  {
   "cell_type": "code",
   "execution_count": 26,
   "metadata": {},
   "outputs": [],
   "source": [
    "def bd_model(input_shape, output_sequence_length, english_vocab_size, french_vocab_size):\n",
    "    \"\"\"\n",
    "    Build and train a bidirectional RNN model on x and y\n",
    "    :param input_shape: Tuple of input shape\n",
    "    :param output_sequence_length: Length of output sequence\n",
    "    :param english_vocab_size: Number of unique English words in the dataset, PLUS 1\n",
    "    :param french_vocab_size: Number of unique French words in the dataset, PLUS 1\n",
    "    :return: Keras model built, but not trained\n",
    "    \"\"\"\n",
    "    # TODO: Implement\n",
    "    learning_rate = 2e-3\n",
    "    hidden_state_units = 256\n",
    "    \n",
    "    model = Sequential()\n",
    "    model.add(Bidirectional(layer=GRU(units=hidden_state_units, activation='relu', dropout=0.3, return_sequences=True), input_shape=input_shape[1:]))\n",
    "    model.add(Bidirectional(layer=GRU(units=hidden_state_units, activation='relu', dropout=0.3, return_sequences=True)))\n",
    "    model.add(TimeDistributed(Dense(1024, activation='relu')))\n",
    "    model.add(Dropout(0.3))\n",
    "    model.add(TimeDistributed(Dense(french_vocab_size, activation='softmax')))\n",
    "\n",
    "    # Compile model\n",
    "    model.compile(loss=sparse_categorical_crossentropy,\n",
    "                  optimizer=Adam(learning_rate),\n",
    "                  metrics=['accuracy'])\n",
    "    return model\n",
    "\n",
    "tests.test_bd_model(bd_model)"
   ]
  },
  {
   "cell_type": "code",
   "execution_count": 27,
   "metadata": {},
   "outputs": [],
   "source": [
    "def embed_bd_model(input_shape, output_sequence_length, english_vocab_size, french_vocab_size):\n",
    "    \"\"\"\n",
    "    Build and train a bidirectional RNN model on x and y\n",
    "    :param input_shape: Tuple of input shape\n",
    "    :param output_sequence_length: Length of output sequence\n",
    "    :param english_vocab_size: Number of unique English words in the dataset, PLUS 1\n",
    "    :param french_vocab_size: Number of unique French words in the dataset, PLUS 1\n",
    "    :return: Keras model built, but not trained\n",
    "    \"\"\"\n",
    "    # TODO: Implement\n",
    "    learning_rate = 2e-3\n",
    "    hidden_state_units = 256\n",
    "    embedding_dim = 300\n",
    "    \n",
    "    # 1 embedding layer + 1 Bidirectional GRU layer + 2 time distributed dense layers:\n",
    "    # embedding layer - accepts 2D tensor as input, output 3D tensor\n",
    "    # bidirectional GRU layer - accepts 3D tensor as input, output 3D tensor\n",
    "    model = Sequential()\n",
    "    model.add(Embedding(input_dim=english_vocab_size, output_dim=embedding_dim, input_length=input_shape[1], input_shape=input_shape[1:]))\n",
    "    model.add(Bidirectional(layer=GRU(units=hidden_state_units, activation='relu', dropout=0.3, return_sequences=True)))\n",
    "    model.add(TimeDistributed(Dense(1024, activation='relu')))\n",
    "    model.add(Dropout(0.3))\n",
    "    model.add(TimeDistributed(Dense(french_vocab_size, activation='softmax')))\n",
    "\n",
    "    # Compile model\n",
    "    model.compile(loss=sparse_categorical_crossentropy,\n",
    "                  optimizer=Adam(learning_rate),\n",
    "                  metrics=['accuracy'])\n",
    "    return model"
   ]
  },
  {
   "cell_type": "code",
   "execution_count": 28,
   "metadata": {
    "scrolled": false
   },
   "outputs": [
    {
     "name": "stdout",
     "output_type": "stream",
     "text": [
      "_________________________________________________________________\n",
      "Layer (type)                 Output Shape              Param #   \n",
      "=================================================================\n",
      "embedding_3 (Embedding)      (None, 21, 300)           60000     \n",
      "_________________________________________________________________\n",
      "bidirectional_3 (Bidirection (None, 21, 512)           855552    \n",
      "_________________________________________________________________\n",
      "time_distributed_11 (TimeDis (None, 21, 1024)          525312    \n",
      "_________________________________________________________________\n",
      "dropout_3 (Dropout)          (None, 21, 1024)          0         \n",
      "_________________________________________________________________\n",
      "time_distributed_12 (TimeDis (None, 21, 345)           353625    \n",
      "=================================================================\n",
      "Total params: 1,794,489\n",
      "Trainable params: 1,794,489\n",
      "Non-trainable params: 0\n",
      "_________________________________________________________________\n",
      "Train on 110288 samples, validate on 27573 samples\n",
      "Epoch 1/20\n",
      "110288/110288 [==============================] - 32s 291us/step - loss: 1.8026 - acc: 0.6141 - val_loss: 0.7262 - val_acc: 0.7927\n",
      "Epoch 2/20\n",
      "110288/110288 [==============================] - 31s 283us/step - loss: 0.5403 - acc: 0.8348 - val_loss: 0.3509 - val_acc: 0.8877\n",
      "Epoch 3/20\n",
      "110288/110288 [==============================] - 31s 283us/step - loss: 0.3226 - acc: 0.8958 - val_loss: 0.2640 - val_acc: 0.9141\n",
      "Epoch 4/20\n",
      "110288/110288 [==============================] - 31s 284us/step - loss: 0.2350 - acc: 0.9236 - val_loss: 0.1756 - val_acc: 0.9441\n",
      "Epoch 5/20\n",
      "110288/110288 [==============================] - 31s 283us/step - loss: 0.1855 - acc: 0.9405 - val_loss: 0.1464 - val_acc: 0.9543\n",
      "Epoch 6/20\n",
      "110288/110288 [==============================] - 31s 283us/step - loss: 0.1547 - acc: 0.9508 - val_loss: 0.1183 - val_acc: 0.9634\n",
      "Epoch 7/20\n",
      "110288/110288 [==============================] - 31s 283us/step - loss: 0.1319 - acc: 0.9584 - val_loss: 0.1083 - val_acc: 0.9673\n",
      "Epoch 8/20\n",
      "110288/110288 [==============================] - 31s 283us/step - loss: 0.1156 - acc: 0.9636 - val_loss: 0.0992 - val_acc: 0.9703\n",
      "Epoch 9/20\n",
      "110288/110288 [==============================] - 31s 283us/step - loss: 0.1032 - acc: 0.9677 - val_loss: 0.0887 - val_acc: 0.9736\n",
      "Epoch 10/20\n",
      "110288/110288 [==============================] - 31s 283us/step - loss: 0.0915 - acc: 0.9714 - val_loss: 0.0807 - val_acc: 0.9766\n",
      "Epoch 11/20\n",
      "110288/110288 [==============================] - 31s 283us/step - loss: 0.0835 - acc: 0.9740 - val_loss: 0.0769 - val_acc: 0.9771\n",
      "Epoch 12/20\n",
      "110288/110288 [==============================] - 31s 283us/step - loss: 0.0772 - acc: 0.9759 - val_loss: 0.0743 - val_acc: 0.9789\n",
      "Epoch 13/20\n",
      "110288/110288 [==============================] - 31s 283us/step - loss: 0.0716 - acc: 0.9775 - val_loss: 0.0700 - val_acc: 0.9797\n",
      "Epoch 14/20\n",
      "110288/110288 [==============================] - 31s 283us/step - loss: 0.0664 - acc: 0.9793 - val_loss: 0.0681 - val_acc: 0.9801\n",
      "Epoch 15/20\n",
      "110288/110288 [==============================] - 31s 283us/step - loss: 0.0633 - acc: 0.9802 - val_loss: 0.0638 - val_acc: 0.9815\n",
      "Epoch 16/20\n",
      "110288/110288 [==============================] - 31s 283us/step - loss: 0.0595 - acc: 0.9815 - val_loss: 0.0649 - val_acc: 0.9816\n",
      "Epoch 17/20\n",
      "110288/110288 [==============================] - 31s 283us/step - loss: 0.0570 - acc: 0.9825 - val_loss: 0.0600 - val_acc: 0.9831\n",
      "Epoch 18/20\n",
      "110288/110288 [==============================] - 31s 283us/step - loss: 0.0530 - acc: 0.9835 - val_loss: 0.0575 - val_acc: 0.9836\n",
      "Epoch 19/20\n",
      "110288/110288 [==============================] - 31s 283us/step - loss: 0.0507 - acc: 0.9842 - val_loss: 0.0589 - val_acc: 0.9833\n",
      "Epoch 20/20\n",
      "110288/110288 [==============================] - 31s 283us/step - loss: 0.0487 - acc: 0.9849 - val_loss: 0.0601 - val_acc: 0.9832\n"
     ]
    }
   ],
   "source": [
    "### USING EMBEDDING ###\n",
    "# TODO: Reshape the input\n",
    "# Pay attention to the difference of tmp_x.reshape between USING EMBEDDING and NOT USING EMBEDDING\n",
    "tmp_x = pad(preproc_english_sentences, preproc_french_sentences.shape[1])\n",
    "tmp_x = tmp_x.reshape((-1, preproc_french_sentences.shape[1])) # 2D tensor - [batch_size, sequence_length]\n",
    "\n",
    "# TODO: Build the neural network\n",
    "embed_bd_rnn_model = embed_bd_model(\n",
    "    tmp_x.shape,\n",
    "    max_french_sequence_length,\n",
    "    english_vocab_size+1,\n",
    "    french_vocab_size+1\n",
    ")\n",
    "\n",
    "# Model Summary:\n",
    "embed_bd_rnn_model.summary()\n",
    "\n",
    "# TODO: Train the neural network (BRNN)\n",
    "history_embed_bd_rnn = embed_bd_rnn_model.fit(tmp_x, preproc_french_sentences, batch_size=1024, epochs=20, validation_split=0.2)"
   ]
  },
  {
   "cell_type": "code",
   "execution_count": 29,
   "metadata": {},
   "outputs": [
    {
     "name": "stdout",
     "output_type": "stream",
     "text": [
      "English: \n",
      "the united states is usually chilly during july , and it is usually freezing in november .\n",
      "French: \n",
      "les états-unis est généralement froid en juillet , et il gèle habituellement en novembre .\n",
      "\n",
      "Machine translation in French: \n",
      "les états unis est généralement froid en juillet et il gèle habituellement en novembre\n",
      "==================\n",
      "English: \n",
      "the lime is her least liked fruit , but the banana is my least liked .\n",
      "French: \n",
      "la chaux est son moins aimé des fruits , mais la banane est mon moins aimé.\n",
      "\n",
      "Machine translation in French: \n",
      "la chaux est son moins aimé des fruits mais la banane est mon moins aimé\n",
      "==================\n",
      "English: \n",
      "the united states is sometimes mild during june , and it is cold in september .\n",
      "French: \n",
      "les états-unis est parfois légère en juin , et il fait froid en septembre .\n",
      "\n",
      "Machine translation in French: \n",
      "les états unis est parfois doux en juin et il fait froid en septembre\n",
      "==================\n",
      "English: \n",
      "our least liked fruit is the lemon , but my least liked is the grape .\n",
      "French: \n",
      "notre fruit est moins aimé le citron , mais mon moins aimé est le raisin .\n",
      "\n",
      "Machine translation in French: \n",
      "notre fruit est moins aimé le citron mais mon moins aimé est le raisin\n",
      "==================\n",
      "English: \n",
      "california is never cold during may , and it is sometimes chilly in march .\n",
      "French: \n",
      "californie ne fait jamais froid au mois de mai , et il est parfois frisquet en mars .\n",
      "\n",
      "Machine translation in French: \n",
      "californie ne fait jamais froid au mois de mai et il est parfois frisquet en mars\n"
     ]
    }
   ],
   "source": [
    "# TODO: Print prediction(s)\n",
    "print(f\"English: \\n{english_sentences[1]}\")\n",
    "print(f\"French: \\n{french_sentences[1]}\")\n",
    "print()\n",
    "print(f\"Machine translation in French: \\n{logits_to_text(embed_bd_rnn_model.predict(tmp_x[:2])[1], french_tokenizer).replace('<PAD> ','').replace(' <PAD> ','').replace(' <PAD>','')}\")\n",
    "print(\"==================\")\n",
    "print(f\"English: \\n{english_sentences[10]}\")\n",
    "print(f\"French: \\n{french_sentences[10]}\")\n",
    "print()\n",
    "print(f\"Machine translation in French: \\n{logits_to_text(embed_bd_rnn_model.predict(tmp_x[:11])[10], french_tokenizer).replace('<PAD> ','').replace(' <PAD> ','').replace(' <PAD>','')}\")\n",
    "print(\"==================\")\n",
    "print(f\"English: \\n{english_sentences[3]}\")\n",
    "print(f\"French: \\n{french_sentences[3]}\")\n",
    "print()\n",
    "print(f\"Machine translation in French: \\n{logits_to_text(embed_bd_rnn_model.predict(tmp_x[:4])[3], french_tokenizer).replace('<PAD> ','').replace(' <PAD> ','').replace(' <PAD>','')}\")\n",
    "print(\"==================\")\n",
    "print(f\"English: \\n{english_sentences[8]}\")\n",
    "print(f\"French: \\n{french_sentences[8]}\")\n",
    "print()\n",
    "print(f\"Machine translation in French: \\n{logits_to_text(embed_bd_rnn_model.predict(tmp_x[:9])[8], french_tokenizer).replace('<PAD> ','').replace(' <PAD> ','').replace(' <PAD>','')}\")\n",
    "print(\"==================\")\n",
    "print(f\"English: \\n{english_sentences[25]}\")\n",
    "print(f\"French: \\n{french_sentences[25]}\")\n",
    "print()\n",
    "print(f\"Machine translation in French: \\n{logits_to_text(embed_bd_rnn_model.predict(tmp_x[:26])[25], french_tokenizer).replace('<PAD> ','').replace(' <PAD> ','').replace(' <PAD>','')}\")"
   ]
  },
  {
   "cell_type": "markdown",
   "metadata": {},
   "source": [
    "<font color='red'>***Notes:***</font>  \n",
    "<font color='red'>***Thoughts on the result:***</font>  \n",
    "Bidirectional RNN with Embedding model translates english to french with a very high accuracy.  \n",
    "\n",
    "I noticed that if I add one more Bidirectional GRU layer, then the training speed is slowing down. In the mean time, **the training accuracy is increasing slowly, while the validation accuracy is decreasing. Why?** How many bidirectional GRU layers to use?"
   ]
  },
  {
   "cell_type": "markdown",
   "metadata": {},
   "source": [
    "### Model 4: Encoder-Decoder (OPTIONAL)\n",
    "Time to look at encoder-decoder models.  This model is made up of an encoder and decoder. The encoder creates a matrix representation of the sentence.  The decoder takes this matrix as input and predicts the translation as output.\n",
    "\n",
    "Create an encoder-decoder model in the cell below."
   ]
  },
  {
   "cell_type": "code",
   "execution_count": 35,
   "metadata": {},
   "outputs": [],
   "source": [
    "def encdec_model(input_shape, output_sequence_length, english_vocab_size, french_vocab_size):\n",
    "    \"\"\"\n",
    "    Build and train an encoder-decoder model on x and y\n",
    "    :param input_shape: Tuple of input shape\n",
    "    :param output_sequence_length: Length of output sequence\n",
    "    :param english_vocab_size: Number of unique English words in the dataset, PLUS 1\n",
    "    :param french_vocab_size: Number of unique French words in the dataset, PLUS 1\n",
    "    :return: Keras model built, but not trained\n",
    "    \"\"\"\n",
    "    # OPTIONAL: Implement\n",
    "    learning_rate = 2e-3\n",
    "    hidden_state_units = 256\n",
    "    \n",
    "    model = Sequential()\n",
    "\n",
    "    # Encoder\n",
    "    # The encoder network is NOT used to produce any outputs.\n",
    "    model.add(GRU(units=hidden_state_units, activation='relu', input_shape=input_shape[1:], return_sequences=False, go_backwards=True))\n",
    "\n",
    "    # Decoder\n",
    "    # Get the LAST output of the GRU and repeat it\n",
    "    model.add(RepeatVector(output_sequence_length))\n",
    "    model.add(GRU(units=hidden_state_units, activation='relu', return_sequences=True))\n",
    "\n",
    "    # Fully-connected TimeDistributed Dense layer\n",
    "    model.add(TimeDistributed(Dense(1024, activation='relu')))\n",
    "    \n",
    "    # Dropout layer\n",
    "    model.add(Dropout(0.3))\n",
    "    \n",
    "    # (Output layer) Fully-connected TimeDistributed Dense layer\n",
    "    model.add(TimeDistributed(Dense(french_vocab_size, activation='softmax')))\n",
    "\n",
    "    # Compile model\n",
    "    model.compile(loss=sparse_categorical_crossentropy,\n",
    "                  optimizer=Adam(learning_rate),\n",
    "                  metrics=['accuracy'])\n",
    "    return model\n",
    "\n",
    "tests.test_encdec_model(encdec_model)"
   ]
  },
  {
   "cell_type": "code",
   "execution_count": 33,
   "metadata": {},
   "outputs": [],
   "source": [
    "# TODO: Reshape the input\n",
    "tmp_x = pad(preproc_english_sentences, preproc_french_sentences.shape[1])\n",
    "tmp_x = tmp_x.reshape((-1, preproc_french_sentences.shape[1], 1)) # 3D tensor - [batch_size, timesteps, num_of_features]"
   ]
  },
  {
   "cell_type": "code",
   "execution_count": 36,
   "metadata": {},
   "outputs": [
    {
     "name": "stdout",
     "output_type": "stream",
     "text": [
      "_________________________________________________________________\n",
      "Layer (type)                 Output Shape              Param #   \n",
      "=================================================================\n",
      "gru_22 (GRU)                 (None, 256)               198144    \n",
      "_________________________________________________________________\n",
      "repeat_vector_5 (RepeatVecto (None, 21, 256)           0         \n",
      "_________________________________________________________________\n",
      "gru_23 (GRU)                 (None, 21, 256)           393984    \n",
      "_________________________________________________________________\n",
      "time_distributed_23 (TimeDis (None, 21, 1024)          263168    \n",
      "_________________________________________________________________\n",
      "dropout_9 (Dropout)          (None, 21, 1024)          0         \n",
      "_________________________________________________________________\n",
      "time_distributed_24 (TimeDis (None, 21, 345)           353625    \n",
      "=================================================================\n",
      "Total params: 1,208,921\n",
      "Trainable params: 1,208,921\n",
      "Non-trainable params: 0\n",
      "_________________________________________________________________\n"
     ]
    }
   ],
   "source": [
    "# TODO: Build the neural network\n",
    "encdec_rnn_model = encdec_model(\n",
    "    tmp_x.shape,\n",
    "    max_french_sequence_length,\n",
    "    english_vocab_size+1,\n",
    "    french_vocab_size+1\n",
    ")\n",
    "\n",
    "# Model Summary:\n",
    "encdec_rnn_model.summary()"
   ]
  },
  {
   "cell_type": "code",
   "execution_count": 37,
   "metadata": {
    "scrolled": false
   },
   "outputs": [
    {
     "name": "stdout",
     "output_type": "stream",
     "text": [
      "Train on 110288 samples, validate on 27573 samples\n",
      "Epoch 1/20\n",
      "110288/110288 [==============================] - 26s 239us/step - loss: 2.2351 - acc: 0.4924 - val_loss: 1.5196 - val_acc: 0.5978\n",
      "Epoch 2/20\n",
      "110288/110288 [==============================] - 25s 225us/step - loss: 1.4407 - acc: 0.6006 - val_loss: 1.3490 - val_acc: 0.6193\n",
      "Epoch 3/20\n",
      "110288/110288 [==============================] - 25s 225us/step - loss: 1.2785 - acc: 0.6328 - val_loss: 1.2073 - val_acc: 0.6480\n",
      "Epoch 4/20\n",
      "110288/110288 [==============================] - 25s 225us/step - loss: 1.1628 - acc: 0.6541 - val_loss: 1.0829 - val_acc: 0.6686\n",
      "Epoch 5/20\n",
      "110288/110288 [==============================] - 25s 225us/step - loss: 1.0799 - acc: 0.6675 - val_loss: 1.0160 - val_acc: 0.6810\n",
      "Epoch 6/20\n",
      "110288/110288 [==============================] - 25s 225us/step - loss: 1.0118 - acc: 0.6794 - val_loss: 0.9280 - val_acc: 0.7024\n",
      "Epoch 7/20\n",
      "110288/110288 [==============================] - 25s 225us/step - loss: 0.9384 - acc: 0.6971 - val_loss: 0.9071 - val_acc: 0.7049\n",
      "Epoch 8/20\n",
      "110288/110288 [==============================] - 25s 225us/step - loss: 0.8763 - acc: 0.7122 - val_loss: 0.7814 - val_acc: 0.7395\n",
      "Epoch 9/20\n",
      "110288/110288 [==============================] - 25s 225us/step - loss: 0.8122 - acc: 0.7287 - val_loss: 0.9425 - val_acc: 0.6898\n",
      "Epoch 10/20\n",
      "110288/110288 [==============================] - 25s 225us/step - loss: 0.7822 - acc: 0.7343 - val_loss: 0.7379 - val_acc: 0.7426\n",
      "Epoch 11/20\n",
      "110288/110288 [==============================] - 25s 225us/step - loss: 0.7546 - acc: 0.7403 - val_loss: 0.7000 - val_acc: 0.7534\n",
      "Epoch 12/20\n",
      "110288/110288 [==============================] - 25s 225us/step - loss: 0.7790 - acc: 0.7305 - val_loss: 0.7630 - val_acc: 0.7222\n",
      "Epoch 13/20\n",
      "110288/110288 [==============================] - 25s 226us/step - loss: 0.7562 - acc: 0.7334 - val_loss: 0.6674 - val_acc: 0.7622\n",
      "Epoch 14/20\n",
      "110288/110288 [==============================] - 25s 225us/step - loss: 0.7012 - acc: 0.7515 - val_loss: 0.6317 - val_acc: 0.7761\n",
      "Epoch 15/20\n",
      "110288/110288 [==============================] - 25s 226us/step - loss: 0.6766 - acc: 0.7579 - val_loss: 0.6723 - val_acc: 0.7580\n",
      "Epoch 16/20\n",
      "110288/110288 [==============================] - 25s 225us/step - loss: 0.6649 - acc: 0.7601 - val_loss: 0.6288 - val_acc: 0.7652\n",
      "Epoch 17/20\n",
      "110288/110288 [==============================] - 25s 226us/step - loss: 0.6479 - acc: 0.7660 - val_loss: 0.5935 - val_acc: 0.7814\n",
      "Epoch 18/20\n",
      "110288/110288 [==============================] - 25s 226us/step - loss: 0.6293 - acc: 0.7699 - val_loss: 0.5646 - val_acc: 0.7926\n",
      "Epoch 19/20\n",
      "110288/110288 [==============================] - 25s 226us/step - loss: 0.6192 - acc: 0.7728 - val_loss: 0.5801 - val_acc: 0.7869\n",
      "Epoch 20/20\n",
      "110288/110288 [==============================] - 25s 226us/step - loss: 0.6019 - acc: 0.7768 - val_loss: 0.5297 - val_acc: 0.8006\n"
     ]
    }
   ],
   "source": [
    "# TODO: Train the neural network (BRNN)\n",
    "history_encdec_rnn = encdec_rnn_model.fit(tmp_x, preproc_french_sentences, batch_size=1024, epochs=20, validation_split=0.2)"
   ]
  },
  {
   "cell_type": "markdown",
   "metadata": {},
   "source": [
    "### Model 5: Custom (IMPLEMENTATION)\n",
    "Use everything you learned from the previous models to create a model that incorporates embedding and a bidirectional rnn into one model."
   ]
  },
  {
   "cell_type": "code",
   "execution_count": 38,
   "metadata": {},
   "outputs": [
    {
     "name": "stdout",
     "output_type": "stream",
     "text": [
      "Final Model Loaded\n"
     ]
    }
   ],
   "source": [
    "def model_final(input_shape, output_sequence_length, english_vocab_size, french_vocab_size):\n",
    "    \"\"\"\n",
    "    Build and train a model that incorporates embedding, encoder-decoder, and bidirectional RNN on x and y\n",
    "    :param input_shape: Tuple of input shape\n",
    "    :param output_sequence_length: Length of output sequence\n",
    "    :param english_vocab_size: Number of unique English words in the dataset, PLUS 1\n",
    "    :param french_vocab_size: Number of unique French words in the dataset, PLUS 1\n",
    "    :return: Keras model built, but not trained\n",
    "    \"\"\"\n",
    "    # TODO: Implement\n",
    "    # Hyperparameters\n",
    "    learning_rate = 5e-3\n",
    "    hidden_state_units = 128\n",
    "    embedding_dim = 128\n",
    "\n",
    "    # Build layers:\n",
    "    model = Sequential()\n",
    "    \n",
    "    # Layer 1 - Embedding layer\n",
    "    model.add(Embedding(input_dim=english_vocab_size, output_dim=embedding_dim, input_shape=input_shape[1:], input_length=input_shape[1]))\n",
    "    # Layer 2 - Encoder\n",
    "    # RepeatVector layer is used to fit 2D output to required 3D input shape [batch_size, timesteps, num_of_features] which will be feed into the next GRU layer\n",
    "    model.add(Bidirectional(GRU(units=hidden_state_units, activation='relu', dropout=0.3, return_sequences=False)))\n",
    "    model.add(RepeatVector(n=output_sequence_length)) # n is the timesteps. Here, timesteps is max_french_sequence_length which is the value of function parameter output_sequence_length\n",
    "    # Layer 3 - Decoder\n",
    "    model.add(Bidirectional(GRU(units=hidden_state_units, activation='relu', dropout=0.3, return_sequences=True)))\n",
    "    # Layer 4 - Fully-connected TimeDistributed Dense layer which is applied to every temporal slice of an input\n",
    "    model.add(TimeDistributed(Dense(512, activation='relu')))\n",
    "    # Layer 5 - Dropout layer\n",
    "    model.add(Dropout(0.3))\n",
    "    # Layer 6 - (Output layer) Fully-connected TimeDistributed Dense layer which is applied to every temporal slice of an input\n",
    "    model.add(TimeDistributed(Dense(french_vocab_size, activation='softmax')))\n",
    "    \n",
    "    # Model Compile:\n",
    "    model.compile(loss=sparse_categorical_crossentropy,\n",
    "                  optimizer=Adam(learning_rate),\n",
    "                  metrics=['accuracy'])\n",
    "    return model\n",
    "\n",
    "tests.test_model_final(model_final)\n",
    "\n",
    "print('Final Model Loaded')"
   ]
  },
  {
   "cell_type": "markdown",
   "metadata": {},
   "source": [
    "## Prediction (IMPLEMENTATION)"
   ]
  },
  {
   "cell_type": "code",
   "execution_count": 48,
   "metadata": {},
   "outputs": [],
   "source": [
    "def final_predictions(x, y, x_tk, y_tk):\n",
    "    \"\"\"\n",
    "    Gets predictions using the final model\n",
    "    :param x: Preprocessed English data\n",
    "    :param y: Preprocessed French data\n",
    "    :param x_tk: English tokenizer\n",
    "    :param y_tk: French tokenizer\n",
    "    \"\"\"\n",
    "    # TODO: Train neural network using model_final\n",
    "    model = model_final(\n",
    "        x.shape,\n",
    "        y.shape[1],\n",
    "        len(x_tk.word_index)+1,\n",
    "        len(y_tk.word_index)+1\n",
    "    )\n",
    "    model.summary()\n",
    "    history = model.fit(x, y, batch_size=1024, epochs=50, validation_split=0.2)\n",
    "    \n",
    "    ## DON'T EDIT ANYTHING BELOW THIS LINE\n",
    "    y_id_to_word = {value: key for key, value in y_tk.word_index.items()}\n",
    "    y_id_to_word[0] = '<PAD>'\n",
    "\n",
    "    sentence = 'he saw a old yellow truck'\n",
    "    sentence = [x_tk.word_index[word] for word in sentence.split()]\n",
    "    sentence = pad_sequences([sentence], maxlen=x.shape[-1], padding='post')\n",
    "    sentences = np.array([sentence[0], x[0]])\n",
    "    predictions = model.predict(sentences, len(sentences))\n",
    "\n",
    "    print()\n",
    "    print('Sample 1:')\n",
    "    print(' '.join([y_id_to_word[np.argmax(x)] for x in predictions[0]]))\n",
    "    print('Il a vu un vieux camion jaune')\n",
    "    print('Sample 2:')\n",
    "    print(' '.join([y_id_to_word[np.argmax(x)] for x in predictions[1]]))\n",
    "    print(' '.join([y_id_to_word[np.max(x)] for x in y[0]]))\n",
    "    \n",
    "    return history"
   ]
  },
  {
   "cell_type": "code",
   "execution_count": 50,
   "metadata": {
    "scrolled": false
   },
   "outputs": [
    {
     "name": "stdout",
     "output_type": "stream",
     "text": [
      "_________________________________________________________________\n",
      "Layer (type)                 Output Shape              Param #   \n",
      "=================================================================\n",
      "embedding_8 (Embedding)      (None, 15, 128)           25600     \n",
      "_________________________________________________________________\n",
      "bidirectional_14 (Bidirectio (None, 256)               197376    \n",
      "_________________________________________________________________\n",
      "repeat_vector_10 (RepeatVect (None, 21, 256)           0         \n",
      "_________________________________________________________________\n",
      "bidirectional_15 (Bidirectio (None, 21, 256)           295680    \n",
      "_________________________________________________________________\n",
      "time_distributed_33 (TimeDis (None, 21, 512)           131584    \n",
      "_________________________________________________________________\n",
      "dropout_14 (Dropout)         (None, 21, 512)           0         \n",
      "_________________________________________________________________\n",
      "time_distributed_34 (TimeDis (None, 21, 345)           176985    \n",
      "=================================================================\n",
      "Total params: 827,225\n",
      "Trainable params: 827,225\n",
      "Non-trainable params: 0\n",
      "_________________________________________________________________\n",
      "Train on 110288 samples, validate on 27573 samples\n",
      "Epoch 1/50\n",
      "110288/110288 [==============================] - 30s 272us/step - loss: 2.9930 - acc: 0.4096 - val_loss: 2.2311 - val_acc: 0.5009\n",
      "Epoch 2/50\n",
      "110288/110288 [==============================] - 27s 241us/step - loss: 1.7574 - acc: 0.5537 - val_loss: 1.2939 - val_acc: 0.6435\n",
      "Epoch 3/50\n",
      "110288/110288 [==============================] - 27s 242us/step - loss: 1.1741 - acc: 0.6686 - val_loss: 0.9365 - val_acc: 0.7221\n",
      "Epoch 4/50\n",
      "110288/110288 [==============================] - 27s 242us/step - loss: 0.9090 - acc: 0.7269 - val_loss: 0.7347 - val_acc: 0.7712\n",
      "Epoch 5/50\n",
      "110288/110288 [==============================] - 27s 241us/step - loss: 0.9201 - acc: 0.7291 - val_loss: 0.7712 - val_acc: 0.7674\n",
      "Epoch 6/50\n",
      "110288/110288 [==============================] - 27s 242us/step - loss: 0.7278 - acc: 0.7723 - val_loss: 0.5793 - val_acc: 0.8109\n",
      "Epoch 7/50\n",
      "110288/110288 [==============================] - 27s 242us/step - loss: 0.6092 - acc: 0.8008 - val_loss: 0.4765 - val_acc: 0.8395\n",
      "Epoch 8/50\n",
      "110288/110288 [==============================] - 27s 242us/step - loss: 0.5353 - acc: 0.8214 - val_loss: 0.3907 - val_acc: 0.8651\n",
      "Epoch 9/50\n",
      "110288/110288 [==============================] - 27s 242us/step - loss: 0.4729 - acc: 0.8402 - val_loss: 0.3404 - val_acc: 0.8816\n",
      "Epoch 10/50\n",
      "110288/110288 [==============================] - 27s 242us/step - loss: 0.4230 - acc: 0.8561 - val_loss: 0.2987 - val_acc: 0.8996\n",
      "Epoch 11/50\n",
      "110288/110288 [==============================] - 27s 242us/step - loss: 0.3832 - acc: 0.8697 - val_loss: 0.2637 - val_acc: 0.9117\n",
      "Epoch 12/50\n",
      "110288/110288 [==============================] - 27s 242us/step - loss: 0.3568 - acc: 0.8794 - val_loss: 0.2437 - val_acc: 0.9205\n",
      "Epoch 13/50\n",
      "110288/110288 [==============================] - 27s 242us/step - loss: 0.3287 - acc: 0.8902 - val_loss: 0.2180 - val_acc: 0.9301\n",
      "Epoch 14/50\n",
      "110288/110288 [==============================] - 27s 242us/step - loss: 0.3002 - acc: 0.9012 - val_loss: 0.1995 - val_acc: 0.9379\n",
      "Epoch 15/50\n",
      "110288/110288 [==============================] - 27s 242us/step - loss: 0.2801 - acc: 0.9091 - val_loss: 0.1749 - val_acc: 0.9477\n",
      "Epoch 16/50\n",
      "110288/110288 [==============================] - 27s 242us/step - loss: 0.2611 - acc: 0.9159 - val_loss: 0.1685 - val_acc: 0.9504\n",
      "Epoch 17/50\n",
      "110288/110288 [==============================] - 27s 242us/step - loss: 0.2509 - acc: 0.9198 - val_loss: 0.1550 - val_acc: 0.9558\n",
      "Epoch 18/50\n",
      "110288/110288 [==============================] - 27s 242us/step - loss: 0.2347 - acc: 0.9252 - val_loss: 0.1473 - val_acc: 0.9592\n",
      "Epoch 19/50\n",
      "110288/110288 [==============================] - 27s 242us/step - loss: 0.2229 - acc: 0.9297 - val_loss: 0.1372 - val_acc: 0.9604\n",
      "Epoch 20/50\n",
      "110288/110288 [==============================] - 27s 242us/step - loss: 0.2085 - acc: 0.9345 - val_loss: 0.1294 - val_acc: 0.9642\n",
      "Epoch 21/50\n",
      "110288/110288 [==============================] - 27s 242us/step - loss: 0.2027 - acc: 0.9368 - val_loss: 0.1257 - val_acc: 0.9649\n",
      "Epoch 22/50\n",
      "110288/110288 [==============================] - 27s 242us/step - loss: 0.1928 - acc: 0.9401 - val_loss: 0.1180 - val_acc: 0.9671\n",
      "Epoch 23/50\n",
      "110288/110288 [==============================] - 27s 242us/step - loss: 0.1893 - acc: 0.9412 - val_loss: 0.1166 - val_acc: 0.9674\n",
      "Epoch 24/50\n",
      "110288/110288 [==============================] - 27s 242us/step - loss: 0.2370 - acc: 0.9287 - val_loss: 0.1099 - val_acc: 0.9697\n",
      "Epoch 25/50\n",
      "110288/110288 [==============================] - 27s 242us/step - loss: 0.1832 - acc: 0.9446 - val_loss: 0.1095 - val_acc: 0.9700\n",
      "Epoch 26/50\n",
      "110288/110288 [==============================] - 27s 242us/step - loss: 0.1680 - acc: 0.9490 - val_loss: 0.1008 - val_acc: 0.9717\n",
      "Epoch 27/50\n",
      "110288/110288 [==============================] - 27s 241us/step - loss: 0.1633 - acc: 0.9508 - val_loss: 0.0962 - val_acc: 0.9732\n",
      "Epoch 28/50\n",
      "110288/110288 [==============================] - 27s 241us/step - loss: 0.1547 - acc: 0.9534 - val_loss: 0.0951 - val_acc: 0.9736\n",
      "Epoch 29/50\n",
      "110288/110288 [==============================] - 27s 241us/step - loss: 0.1498 - acc: 0.9554 - val_loss: 0.0903 - val_acc: 0.9744\n",
      "Epoch 30/50\n",
      "110288/110288 [==============================] - 27s 242us/step - loss: 0.1400 - acc: 0.9582 - val_loss: 0.0854 - val_acc: 0.9755\n",
      "Epoch 31/50\n",
      "110288/110288 [==============================] - 27s 241us/step - loss: 0.1388 - acc: 0.9587 - val_loss: 0.0908 - val_acc: 0.9744\n",
      "Epoch 32/50\n",
      "110288/110288 [==============================] - 27s 242us/step - loss: 0.1428 - acc: 0.9579 - val_loss: 0.0897 - val_acc: 0.9746\n",
      "Epoch 33/50\n",
      "110288/110288 [==============================] - 27s 242us/step - loss: 0.1401 - acc: 0.9583 - val_loss: 0.0883 - val_acc: 0.9752\n",
      "Epoch 34/50\n",
      "110288/110288 [==============================] - 27s 242us/step - loss: 0.1388 - acc: 0.9589 - val_loss: 0.0828 - val_acc: 0.9766\n",
      "Epoch 35/50\n",
      "110288/110288 [==============================] - 27s 242us/step - loss: 0.1348 - acc: 0.9600 - val_loss: 0.0816 - val_acc: 0.9775\n",
      "Epoch 36/50\n",
      "110288/110288 [==============================] - 27s 242us/step - loss: 0.1281 - acc: 0.9617 - val_loss: 0.0847 - val_acc: 0.9764\n",
      "Epoch 37/50\n",
      "110288/110288 [==============================] - 27s 242us/step - loss: 0.1232 - acc: 0.9631 - val_loss: 0.0797 - val_acc: 0.9778\n",
      "Epoch 38/50\n",
      "110288/110288 [==============================] - 27s 242us/step - loss: 0.1187 - acc: 0.9647 - val_loss: 0.0793 - val_acc: 0.9781\n",
      "Epoch 39/50\n",
      "110288/110288 [==============================] - 27s 241us/step - loss: 0.1248 - acc: 0.9633 - val_loss: 0.0767 - val_acc: 0.9787\n",
      "Epoch 40/50\n",
      "110288/110288 [==============================] - 27s 241us/step - loss: 0.1302 - acc: 0.9614 - val_loss: 0.0802 - val_acc: 0.9777\n",
      "Epoch 41/50\n",
      "110288/110288 [==============================] - 27s 242us/step - loss: 0.1195 - acc: 0.9647 - val_loss: 0.0794 - val_acc: 0.9783\n",
      "Epoch 42/50\n",
      "110288/110288 [==============================] - 27s 242us/step - loss: 0.1213 - acc: 0.9643 - val_loss: 0.0768 - val_acc: 0.9786\n",
      "Epoch 43/50\n",
      "110288/110288 [==============================] - 27s 242us/step - loss: 0.1223 - acc: 0.9641 - val_loss: 0.0831 - val_acc: 0.9769\n",
      "Epoch 44/50\n",
      "110288/110288 [==============================] - 27s 242us/step - loss: 0.1125 - acc: 0.9664 - val_loss: 0.0747 - val_acc: 0.9796\n",
      "Epoch 45/50\n",
      "110288/110288 [==============================] - 27s 242us/step - loss: 0.1087 - acc: 0.9679 - val_loss: 0.0745 - val_acc: 0.9792\n",
      "Epoch 46/50\n",
      "110288/110288 [==============================] - 27s 242us/step - loss: 0.1110 - acc: 0.9671 - val_loss: 0.0793 - val_acc: 0.9783\n",
      "Epoch 47/50\n",
      "110288/110288 [==============================] - 27s 242us/step - loss: 0.1137 - acc: 0.9665 - val_loss: 0.0756 - val_acc: 0.9793\n",
      "Epoch 48/50\n",
      "110288/110288 [==============================] - 27s 242us/step - loss: 0.1083 - acc: 0.9681 - val_loss: 0.0731 - val_acc: 0.9806\n",
      "Epoch 49/50\n",
      "110288/110288 [==============================] - 27s 242us/step - loss: 0.1094 - acc: 0.9676 - val_loss: 0.0727 - val_acc: 0.9795\n",
      "Epoch 50/50\n",
      "110288/110288 [==============================] - 27s 242us/step - loss: 0.1027 - acc: 0.9693 - val_loss: 0.0725 - val_acc: 0.9801\n",
      "\n",
      "Sample 1:\n",
      "il a vu un vieux camion jaune <PAD> <PAD> <PAD> <PAD> <PAD> <PAD> <PAD> <PAD> <PAD> <PAD> <PAD> <PAD> <PAD> <PAD>\n",
      "Il a vu un vieux camion jaune\n",
      "Sample 2:\n",
      "new jersey est parfois calme pendant l' automne et il est neigeux en avril <PAD> <PAD> <PAD> <PAD> <PAD> <PAD> <PAD>\n",
      "new jersey est parfois calme pendant l' automne et il est neigeux en avril <PAD> <PAD> <PAD> <PAD> <PAD> <PAD> <PAD>\n"
     ]
    }
   ],
   "source": [
    "history_final_model = final_predictions(preproc_english_sentences, preproc_french_sentences, english_tokenizer, french_tokenizer)"
   ]
  },
  {
   "cell_type": "code",
   "execution_count": 51,
   "metadata": {},
   "outputs": [
    {
     "data": {
      "image/png": "[encoded data removed]",
      "text/plain": [
       "<matplotlib.figure.Figure at 0x7f7f4bcad128>"
      ]
     },
     "metadata": {
      "needs_background": "light"
     },
     "output_type": "display_data"
    }
   ],
   "source": [
    "plt.plot(history_final_model.history['acc'])\n",
    "plt.plot(history_final_model.history['val_acc'])\n",
    "plt.title('model accuracy')\n",
    "plt.ylabel('accuracy')\n",
    "plt.xlabel('epoch')\n",
    "plt.legend(['train', 'test'], loc='upper left')\n",
    "plt.show()"
   ]
  },
  {
   "cell_type": "code",
   "execution_count": 52,
   "metadata": {},
   "outputs": [
    {
     "data": {
      "image/png": "[encoded data removed]",
      "text/plain": [
       "<matplotlib.figure.Figure at 0x7f7f4bd20860>"
      ]
     },
     "metadata": {
      "needs_background": "light"
     },
     "output_type": "display_data"
    }
   ],
   "source": [
    "plt.plot(history_final_model.history['loss'])\n",
    "plt.plot(history_final_model.history['val_loss'])\n",
    "plt.title('model loss')\n",
    "plt.ylabel('loss')\n",
    "plt.xlabel('epoch')\n",
    "plt.legend(['train', 'test'], loc='upper left')\n",
    "plt.show()"
   ]
  },
  {
   "cell_type": "markdown",
   "metadata": {},
   "source": [
    "<font color='red'>***Thoughts on the result:***</font>  \n",
    "The validation loss is decreasing and it hasn't reached a minimum point, meaning the global optimal hasn't been reached."
   ]
  },
  {
   "cell_type": "markdown",
   "metadata": {},
   "source": [
    "## Submission\n",
    "When you're ready to submit, complete the following steps:\n",
    "1. Review the [rubric](https://review.udacity.com/#!/rubrics/1004/view) to ensure your submission meets all requirements to pass\n",
    "2. Generate an HTML version of this notebook\n",
    "\n",
    "  - Run the next cell to attempt automatic generation (this is the recommended method in Workspaces)\n",
    "  - Navigate to **FILE -> Download as -> HTML (.html)**\n",
    "  - Manually generate a copy using `nbconvert` from your shell terminal\n",
    "```\n",
    "$ pip install nbconvert\n",
    "$ python -m nbconvert machine_translation.ipynb\n",
    "```\n",
    "  \n",
    "3. Submit the project\n",
    "\n",
    "  - If you are in a Workspace, simply click the \"Submit Project\" button (bottom towards the right)\n",
    "  \n",
    "  - Otherwise, add the following files into a zip archive and submit them \n",
    "  - `helper.py`\n",
    "  - `machine_translation.ipynb`\n",
    "  - `machine_translation.html`\n",
    "    - You can export the notebook by navigating to **File -> Download as -> HTML (.html)**."
   ]
  },
  {
   "cell_type": "markdown",
   "metadata": {},
   "source": [
    "### Generate the html\n",
    "\n",
    "**Save your notebook before running the next cell to generate the HTML output.** Then submit your project."
   ]
  },
  {
   "cell_type": "code",
   "execution_count": 53,
   "metadata": {},
   "outputs": [
    {
     "data": {
      "text/plain": [
       "['[NbConvertApp] Converting notebook machine_translation.ipynb to html',\n",
       " '[NbConvertApp] Writing 497313 bytes to machine_translation.html',\n",
       " '[NbConvertApp] Converting notebook machine_translation-zh.ipynb to html',\n",
       " '[NbConvertApp] Writing 328614 bytes to machine_translation-zh.html']"
      ]
     },
     "execution_count": 53,
     "metadata": {},
     "output_type": "execute_result"
    }
   ],
   "source": [
    "# Save before you run this cell!\n",
    "!!jupyter nbconvert *.ipynb"
   ]
  },
  {
   "cell_type": "markdown",
   "metadata": {},
   "source": [
    "## Optional Enhancements\n",
    "\n",
    "This project focuses on learning various network architectures for machine translation, but we don't evaluate the models according to best practices by splitting the data into separate test & training sets -- so the model accuracy is overstated. Use the [`sklearn.model_selection.train_test_split()`](http://scikit-learn.org/stable/modules/generated/sklearn.model_selection.train_test_split.html) function to create separate training & test datasets, then retrain each of the models using only the training set and evaluate the prediction accuracy using the hold out test set. Does the \"best\" model change?"
   ]
  }
 ],
 "metadata": {
  "kernelspec": {
   "display_name": "Python 3",
   "language": "python",
   "name": "python3"
  },
  "language_info": {
   "codemirror_mode": {
    "name": "ipython",
    "version": 3
   },
   "file_extension": ".py",
   "mimetype": "text/x-python",
   "name": "python",
   "nbconvert_exporter": "python",
   "pygments_lexer": "ipython3",
   "version": "3.6.3"
  }
 },
 "nbformat": 4,
 "nbformat_minor": 1
}
